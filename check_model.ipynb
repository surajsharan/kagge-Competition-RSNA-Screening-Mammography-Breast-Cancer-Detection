{
 "cells": [
  {
   "cell_type": "code",
   "execution_count": 1,
   "id": "559dbe55-599b-470d-bebc-af198df15e5c",
   "metadata": {},
   "outputs": [],
   "source": [
    "import matplotlib.pyplot as plt\n",
    "\n",
    "# from common import *\n",
    "from sklearn import metrics\n",
    "import pandas as pd\n",
    "import numpy as np\n",
    "import cv2"
   ]
  },
  {
   "cell_type": "code",
   "execution_count": 2,
   "id": "85ed72d7-7f16-400e-abed-6581eace6cfd",
   "metadata": {},
   "outputs": [],
   "source": [
    "\n",
    "\n",
    "#################################################################################################\n",
    "\n",
    "\n",
    "def np_binary_cross_entropy_loss(probability, truth):\n",
    "    probability = probability.astype(np.float64)\n",
    "    probability = np.nan_to_num(probability, nan=1, posinf=1, neginf=0)\n",
    "\n",
    "    p = np.clip(probability, 1e-5, 1 - 1e-5)\n",
    "    y = truth\n",
    "\n",
    "    loss = -y * np.log(p) - (1 - y) * np.log(1 - p)\n",
    "    loss = loss.mean()\n",
    "    return loss\n",
    "\n",
    "def get_f1score(probability, truth, threshold = np.linspace(0, 1, 50)):\n",
    "    f1score = []\n",
    "    precision=[]\n",
    "    recall=[]\n",
    "    for t in threshold:\n",
    "        predict = (probability > t).astype(np.float32)\n",
    "\n",
    "        tp = ((predict >= 0.5) & (truth >= 0.5)).sum()\n",
    "        fp = ((predict >= 0.5) & (truth < 0.5)).sum()\n",
    "        fn = ((predict < 0.5) & (truth >= 0.5)).sum()\n",
    "\n",
    "        r = tp / (tp + fn + 1e-3)\n",
    "        p = tp / (tp + fp + 1e-3)\n",
    "        f1 = 2 * r * p / (r + p + 1e-3)\n",
    "        f1score.append(f1)\n",
    "        precision.append(p)\n",
    "        recall.append(r)\n",
    "    f1score = np.array(f1score)\n",
    "    precision = np.array(precision)\n",
    "    recall = np.array(recall)\n",
    "    return f1score, precision, recall, threshold\n",
    "\n",
    "def plot_auc(cancer_p, cancer_t, figure_num):\n",
    "    plt.figure(figure_num)\n",
    "    spacing=50\n",
    "    cancer_t = cancer_t.astype(int)\n",
    "    pos, bin = np.histogram(cancer_p[cancer_t == 1], np.linspace(0, 1, spacing))\n",
    "    neg, bin = np.histogram(cancer_p[cancer_t == 0], np.linspace(0, 1, spacing))\n",
    "    pos = pos / (cancer_t == 1).sum()\n",
    "    neg = neg / (cancer_t == 0).sum()\n",
    "    #print(pos)\n",
    "    #print(neg)\n",
    "    # plt.plot(bin[1:],neg, alpha=1)\n",
    "    # plt.plot(bin[1:],pos, alpha=1)\n",
    "    bin = (bin[1:] + bin[:-1]) / 2\n",
    "    plt.bar(bin, neg, width=1/spacing, label='neg', alpha=0.5)\n",
    "    plt.bar(bin, pos, width=1/spacing, label='pos', alpha=0.5)\n",
    "    plt.legend()\n",
    "    #plt.yscale('log')\n",
    "    # if is_show:\n",
    "    #     plt.show()\n",
    "    # return  plt.gcf()\n",
    "\n",
    "def compute_metric(cancer_p, cancer_t):\n",
    "    \n",
    "    fpr, tpr, thresholds = metrics.roc_curve(cancer_t, cancer_p)\n",
    "    auc = metrics.auc(fpr, tpr)\n",
    "\n",
    "    f1score, precision, recall, threshold = get_f1score(cancer_p, cancer_t)\n",
    "    i = f1score.argmax()\n",
    "    f1score, precision, recall, threshold = f1score[i], precision[i], recall[i], threshold[i]\n",
    "\n",
    "    specificity = ((cancer_p < threshold ) & ((cancer_t <= 0.5))).sum() / (cancer_t <= 0.5).sum()\n",
    "    sensitivity = ((cancer_p >= threshold) & ((cancer_t >= 0.5))).sum() / (cancer_t >= 0.5).sum()\n",
    "\n",
    "    return {\n",
    "        'auc': auc,\n",
    "        'threshold': threshold,\n",
    "        'f1score': f1score,\n",
    "        'precision': precision,\n",
    "        'recall': recall,\n",
    "        'sensitivity': sensitivity,\n",
    "        'specificity': specificity,\n",
    "    }\n",
    "\n",
    "def compute_pfbeta(labels, predictions, beta=1):\n",
    "    y_true_count = 0\n",
    "    ctp = 0\n",
    "    cfp = 0\n",
    "\n",
    "    for idx in range(len(labels)):\n",
    "        prediction = min(max(predictions[idx], 0), 1)\n",
    "        if (labels[idx]):\n",
    "            y_true_count += 1\n",
    "            ctp += prediction\n",
    "            #cfp += 1 - prediction\n",
    "        else:\n",
    "            cfp += prediction\n",
    "\n",
    "    beta_squared = beta * beta\n",
    "    c_precision = ctp / (ctp + cfp+1e-8)\n",
    "    c_recall = ctp / y_true_count\n",
    "    if (c_precision > 0 and c_recall > 0):\n",
    "        result = (1 + beta_squared) * (c_precision * c_recall) / (beta_squared * c_precision + c_recall)\n",
    "        return result\n",
    "    else:\n",
    "        return 0\n",
    "\n",
    "def print_all_metric(valid_df):\n",
    "\n",
    "    print(f'{\"    \": <16}    \\tauc      @th     f1      | \tprec    recall  | \tsens    spec ')\n",
    "    #log.write(f'{\"    \": <16}    \\t0.77902\t0.44898\t0.28654 | \t0.32461\t0.25726 | \t0.25726\t0.98794\\n')\n",
    "    for site_id in [0,1,2]:\n",
    "\n",
    "        #log.write(f'*** site_id [{site_id}] ***\\n')\n",
    "        #log.write(f'\\n')\n",
    "\n",
    "        if site_id>0:\n",
    "            site_df = valid_df[valid_df.site_id == site_id].reset_index(drop=True)\n",
    "        else:\n",
    "            site_df = valid_df\n",
    "        # ---\n",
    "        gb = site_df\n",
    "        m = compute_metric(gb.cancer_p, gb.cancer_t)\n",
    "        text = f'{\"single image\": <16} [{site_id}]'\n",
    "        text += f'\\t{m[\"auc\"]:0.5f}'\n",
    "        text += f'\\t{m[\"threshold\"]:0.5f}'\n",
    "        text += f'\\t{m[\"f1score\"]:0.5f} | '\n",
    "        text += f'\\t{m[\"precision\"]:0.5f}'\n",
    "        text += f'\\t{m[\"recall\"]:0.5f} | '\n",
    "        text += f'\\t{m[\"sensitivity\"]:0.5f}'\n",
    "        text += f'\\t{m[\"specificity\"]:0.5f}'\n",
    "        #text += '\\n'\n",
    "        print(text)\n",
    "        \n",
    "        gb = site_df[['patient_id', 'laterality', 'cancer_t', 'cancer_p']].groupby(['patient_id', 'laterality']).mean()\n",
    "        # m = compute_metric(gb.cancer_p.values, gb.cancer_t.values)\n",
    "        try :\n",
    "            m = compute_metric(gb.cancer_p.values, gb.cancer_t.values)\n",
    "        except:\n",
    "            gb = gb[gb.cancer_t.isin([0,1])]\n",
    "            m = compute_metric(gb.cancer_p.values, gb.cancer_t.values)\n",
    "            # m = compute_metric(gb.cancer_p.values, np.where(gb.cancer_t > 0.5, 1,0))\n",
    "        text = f'{\"grouby mean()\": <16} [{site_id}]'\n",
    "        text += f'\\t{m[\"auc\"]:0.5f}'\n",
    "        text += f'\\t{m[\"threshold\"]:0.5f}'\n",
    "        text += f'\\t{m[\"f1score\"]:0.5f} | '\n",
    "        text += f'\\t{m[\"precision\"]:0.5f}'\n",
    "        text += f'\\t{m[\"recall\"]:0.5f} | '\n",
    "        text += f'\\t{m[\"sensitivity\"]:0.5f}'\n",
    "        text += f'\\t{m[\"specificity\"]:0.5f}'\n",
    "        #text += '\\n'\n",
    "        print(text)\n",
    "\n",
    "        # ---\n",
    "        gb = site_df[['patient_id', 'laterality', 'cancer_t', 'cancer_p']].groupby(['patient_id', 'laterality']).max()\n",
    "        m = compute_metric(gb.cancer_p.values, gb.cancer_t.values)\n",
    "        text = f'{\"grouby max()\": <16} [{site_id}]'\n",
    "        text += f'\\t{m[\"auc\"]:0.5f}'\n",
    "        text += f'\\t{m[\"threshold\"]:0.5f}'\n",
    "        text += f'\\t{m[\"f1score\"]:0.5f} | '\n",
    "        text += f'\\t{m[\"precision\"]:0.5f}'\n",
    "        text += f'\\t{m[\"recall\"]:0.5f} | '\n",
    "        text += f'\\t{m[\"sensitivity\"]:0.5f}'\n",
    "        text += f'\\t{m[\"specificity\"]:0.5f}'\n",
    "        #text += '\\n'\n",
    "        print(text)\n",
    "        print(f'--------------\\n')\n",
    "\n"
   ]
  },
  {
   "cell_type": "code",
   "execution_count": 3,
   "id": "b0b0a2f6-8cdf-4296-8edf-4f097876d2e5",
   "metadata": {},
   "outputs": [],
   "source": [
    "\n",
    "# root_dir = 'output/train_crop_voilut_1536'\n",
    "# root_dir = 'output/train_crop_voilut_1536_seresnext'\n",
    "# root_dir =  'output/test_pipeline'\n",
    "root_dir =  'output/boostingb4_2048'\n",
    "\n",
    "iteration='swa'\n",
    "df = pd.read_csv('input_data/master_kfold_data.csv')\n",
    "# df = pd.read_csv('input_data/kfold_train.csv')\n",
    "fold = 1 \n",
    "epoch_ = 1\n",
    "valid_df= df[df.kfold==fold]\n",
    "cancer_t =     np.load(f'{root_dir}/checkpoint-fold-{fold}_true_val.npy',)\n",
    "cancer_p =     np.load(f'{root_dir}/checkpoint-fold-{fold}_ddp_ep_{epoch_}_predictions.npy', )\n",
    "label_ids = np.load(f'{root_dir}/checkpoint-fold-{fold}_label_ids.npy',)\n",
    "#cancer_p =     np.load('/home/titanx/hengck/share1/kaggle/2022/rsna-breast-mammography/code/dummy-01/[notebook]/nextvit-b-1536-faster1/probability.npy')\n",
    "\n"
   ]
  },
  {
   "cell_type": "markdown",
   "id": "c1833569-a73e-4cf6-89a8-9290209bab7c",
   "metadata": {},
   "source": [
    "#### load model and predict on hidden test"
   ]
  },
  {
   "cell_type": "code",
   "execution_count": 4,
   "id": "584e435c-924e-4ccb-9bae-108a8ede5691",
   "metadata": {},
   "outputs": [],
   "source": [
    "import config\n",
    "import dataset"
   ]
  },
  {
   "cell_type": "code",
   "execution_count": 5,
   "id": "c29a6f2c-0349-4809-9296-5c14ed43eeba",
   "metadata": {},
   "outputs": [],
   "source": [
    "from model import RSNAModel\n",
    "import torch\n",
    "from apex import amp\n",
    "import glob\n",
    "from tqdm import tqdm"
   ]
  },
  {
   "cell_type": "code",
   "execution_count": 6,
   "id": "f4eb99e9-b985-4498-9a9c-57be90015fb4",
   "metadata": {
    "tags": []
   },
   "outputs": [],
   "source": [
    "\n",
    "test_data = df.copy() #df[df.kfold==4]\n",
    "test_data['dump_path'] = test_data.apply(lambda row : ''.join(config.IMG_PATH+'/'+str(row['patient_id'])+'/'+str(row['image_id'])+'.png'), axis=1)\n",
    "test_data = test_data.reset_index(drop=True)"
   ]
  },
  {
   "cell_type": "code",
   "execution_count": 7,
   "id": "58a5d99a-f464-437b-bcc7-06f98cea555c",
   "metadata": {},
   "outputs": [],
   "source": [
    "external_data = pd.read_csv('external_data/additional_train.csv')"
   ]
  },
  {
   "cell_type": "code",
   "execution_count": 8,
   "id": "13b4339b-806c-4760-b352-b8c719eb7141",
   "metadata": {},
   "outputs": [],
   "source": [
    "external_data_paths = glob.glob(\"external_data/external_data_png/**/*.png\",recursive=True)"
   ]
  },
  {
   "cell_type": "code",
   "execution_count": 9,
   "id": "b564d405-2bf3-4db1-b0aa-b08559085717",
   "metadata": {},
   "outputs": [],
   "source": [
    "external_data['dump_path'] = external_data_paths\n",
    "external_data['site_id'] = [np.random.randint(1, 3) for _ in range(len(external_data))]"
   ]
  },
  {
   "cell_type": "code",
   "execution_count": 10,
   "id": "2d6d6bd7-6aa8-43e3-ae9e-aabe281d9ab4",
   "metadata": {},
   "outputs": [],
   "source": [
    "device = torch.device(\"cuda:9\" if torch.cuda.is_available() else \"cpu\")"
   ]
  },
  {
   "cell_type": "code",
   "execution_count": 11,
   "id": "1354b523-8dee-4f81-b572-ca2c9e684054",
   "metadata": {},
   "outputs": [],
   "source": [
    "# img_ids = test_data[test_data['fold_1_pred'].isnull()]['image_id'].values"
   ]
  },
  {
   "cell_type": "code",
   "execution_count": 12,
   "id": "868c2e76-d121-4856-9c77-71e8a5c852d7",
   "metadata": {},
   "outputs": [],
   "source": [
    "# image_id_to_look = [233203633,  427970946, 1845502573, 1036826199, 1856674878,\n",
    "#         573137232, 1446998474, 1700246383]"
   ]
  },
  {
   "cell_type": "code",
   "execution_count": 13,
   "id": "cf049d34-31e3-4bdf-86f0-faaf506decd0",
   "metadata": {},
   "outputs": [],
   "source": [
    "# test_data = test_data[test_data.image_id.isin(img_ids)]"
   ]
  },
  {
   "cell_type": "code",
   "execution_count": 14,
   "id": "fd0065e3-244b-45ab-b0c6-b195bba820f5",
   "metadata": {},
   "outputs": [],
   "source": [
    "\n",
    "external_test_dataloader = dataset.RSNADataloader(external_data, 'dump_path', weights=None, transforms=config.VAL_TRANSFORM, test=True).fetch(\n",
    "                batch_size=8, num_workers=0, shuffle=False, drop_last=False,validation=True)\n",
    "\n",
    "\n",
    "test_dataloader = dataset.RSNADataloader(test_data, 'dump_path', weights=None, transforms=config.VAL_TRANSFORM, test=True).fetch(\n",
    "                batch_size=8, num_workers=0, shuffle=False, drop_last=False,validation=True)"
   ]
  },
  {
   "cell_type": "code",
   "execution_count": 15,
   "id": "0f047882-3d8f-48a7-91de-cab957349a75",
   "metadata": {},
   "outputs": [],
   "source": [
    "# initialize CNN, cost, and optimizer\n",
    "model = RSNAModel(output_size = 1,n_cols=len(config.CATEGORY_AUX_TARGETS)).to(device)\n",
    "\n",
    "# model.load_state_dict(torch.load(f'{root_dir}/checkpoint-fold-{fold}_ddp_ep_{epoch_}_model.bin',map_location=device))"
   ]
  },
  {
   "cell_type": "code",
   "execution_count": 16,
   "id": "1ad7470f-4947-4e65-8954-5192fdf1f9fc",
   "metadata": {},
   "outputs": [],
   "source": [
    "def get_prediction(model, data_laoder):\n",
    "    model.eval()\n",
    "    predictions = []\n",
    "    with torch.inference_mode():\n",
    "        # with torch.autocast(device_type='cuda'):\n",
    "            for data in tqdm(data_laoder, total=len(data_laoder)):\n",
    "                for k, v in data.items():\n",
    "                    data[k] = v.to(device)\n",
    "\n",
    "                outputs, _ = model(image=data['image'],meta=data['meta'])\n",
    "                #2 tta\n",
    "                # outputs_, _  = model(torch.flip(data['image'], dims=[3]))\n",
    "                # outputs = (outputs + outputs_)/2.0\n",
    "                outputs = torch.sigmoid(outputs)\n",
    "\n",
    "                output = outputs.detach().cpu().numpy()\n",
    "                predictions.append(output)\n",
    "    return np.concatenate(predictions, axis=0)\n",
    "\n",
    "        "
   ]
  },
  {
   "cell_type": "code",
   "execution_count": 17,
   "id": "6f801012-6319-4231-a52c-f9d168006cd9",
   "metadata": {},
   "outputs": [],
   "source": [
    "MODEL_PATHS = [\n",
    "                f'{root_dir}/checkpoint-fold-0_ddp_ep_2_model.bin',\n",
    "              f'{root_dir}/checkpoint-fold-1_ddp_ep_1_model.bin',\n",
    "              f'{root_dir}/checkpoint-fold-2_ddp_ep_3_model.bin',\n",
    "              f'{root_dir}/checkpoint-fold-3_ddp_ep_2_model.bin'\n",
    "                ]"
   ]
  },
  {
   "cell_type": "code",
   "execution_count": 18,
   "id": "a6ad3e9d-8a13-4865-b664-e2e1959ec6fe",
   "metadata": {},
   "outputs": [],
   "source": [
    "\n",
    "def get_preds_folds(data_loader):\n",
    "      \n",
    "    raw_preds = []\n",
    "\n",
    "    for idx , model_filename in enumerate(MODEL_PATHS): ## nfolds = config.NFOLDS = 5\n",
    "        \n",
    "        print(f\"{model_filename}+>>> inference\")\n",
    "        model.load_state_dict(torch.load(model_filename,map_location=device))\n",
    "        print(\"model loaded successfully\")\n",
    "        predictions = get_prediction(model, data_loader)\n",
    "        raw_preds.append(predictions)\n",
    "\n",
    "\n",
    "        del predictions #, pred_logits\n",
    "        torch.cuda.empty_cache()\n",
    "    \n",
    "    return raw_preds\n"
   ]
  },
  {
   "cell_type": "code",
   "execution_count": 19,
   "id": "444ba2eb-64ed-430c-b190-e216f9ddf685",
   "metadata": {},
   "outputs": [],
   "source": [
    "# preds_external = get_prediction(external_test_dataloader)"
   ]
  },
  {
   "cell_type": "code",
   "execution_count": 20,
   "id": "da315e17-b948-4099-9c07-eb530212d1fc",
   "metadata": {},
   "outputs": [
    {
     "name": "stdout",
     "output_type": "stream",
     "text": [
      "output/boostingb4_2048/checkpoint-fold-0_ddp_ep_2_model.bin+>>> inference\n",
      "model loaded successfully\n"
     ]
    },
    {
     "name": "stderr",
     "output_type": "stream",
     "text": [
      "100%|██████████| 6983/6983 [53:19<00:00,  2.18it/s]\n"
     ]
    },
    {
     "name": "stdout",
     "output_type": "stream",
     "text": [
      "output/boostingb4_2048/checkpoint-fold-1_ddp_ep_1_model.bin+>>> inference\n",
      "model loaded successfully\n"
     ]
    },
    {
     "name": "stderr",
     "output_type": "stream",
     "text": [
      "100%|██████████| 6983/6983 [53:04<00:00,  2.19it/s]\n"
     ]
    },
    {
     "name": "stdout",
     "output_type": "stream",
     "text": [
      "output/boostingb4_2048/checkpoint-fold-2_ddp_ep_3_model.bin+>>> inference\n",
      "model loaded successfully\n"
     ]
    },
    {
     "name": "stderr",
     "output_type": "stream",
     "text": [
      "100%|██████████| 6983/6983 [53:06<00:00,  2.19it/s]\n"
     ]
    },
    {
     "name": "stdout",
     "output_type": "stream",
     "text": [
      "output/boostingb4_2048/checkpoint-fold-3_ddp_ep_2_model.bin+>>> inference\n",
      "model loaded successfully\n"
     ]
    },
    {
     "name": "stderr",
     "output_type": "stream",
     "text": [
      "100%|██████████| 6983/6983 [53:05<00:00,  2.19it/s]\n"
     ]
    }
   ],
   "source": [
    "preds = get_preds_folds(test_dataloader)"
   ]
  },
  {
   "cell_type": "code",
   "execution_count": 28,
   "id": "7c9d6136-d2d5-4cd6-bb07-efcb9544c6dd",
   "metadata": {},
   "outputs": [],
   "source": [
    "predictions_all = np.mean(preds,axis=0)\n",
    "# prediction_external = np.concatenate(preds_external, axis=0)"
   ]
  },
  {
   "cell_type": "code",
   "execution_count": 21,
   "id": "dc4add67-df29-4c1d-8f60-d74b148387a4",
   "metadata": {},
   "outputs": [],
   "source": [
    "for i in range(len(preds)):\n",
    "    test_data[f'fold_{i}_pred'] = preds[i]"
   ]
  },
  {
   "cell_type": "code",
   "execution_count": 22,
   "id": "dec574cf-7d8a-45ef-b12f-e46b2d9ae795",
   "metadata": {},
   "outputs": [],
   "source": [
    "test_data.to_csv('output/oof_test_data_all.csv',index=False)"
   ]
  },
  {
   "cell_type": "code",
   "execution_count": 29,
   "id": "02b71c54-a263-41c9-bf94-36d46e7e1506",
   "metadata": {},
   "outputs": [
    {
     "data": {
      "text/plain": [
       "(11174, 1)"
      ]
     },
     "execution_count": 29,
     "metadata": {},
     "output_type": "execute_result"
    }
   ],
   "source": [
    "predictions_all.shape"
   ]
  },
  {
   "cell_type": "code",
   "execution_count": 35,
   "id": "f82243ff-963e-46f2-af39-c50293294ecb",
   "metadata": {},
   "outputs": [],
   "source": [
    "# load_img = cv2.imread(f'{config.IMG_PATH}/53468/1992149182.png')"
   ]
  },
  {
   "cell_type": "code",
   "execution_count": 36,
   "id": "9d061014-171d-4708-9dac-6fe0198e5bcc",
   "metadata": {},
   "outputs": [],
   "source": [
    "# test_data = test_data[~test_data.cancer_p.isnull()]"
   ]
  },
  {
   "cell_type": "code",
   "execution_count": 37,
   "id": "450d786d-bc85-487b-bafe-3eb37db3396b",
   "metadata": {},
   "outputs": [],
   "source": [
    "# external_data['cancer_p'] = prediction_external\n",
    "# external_data['cancer_t'] = 1"
   ]
  },
  {
   "cell_type": "code",
   "execution_count": 47,
   "id": "d5aabbc9-2c86-4d3b-a241-c1eb53442e83",
   "metadata": {},
   "outputs": [],
   "source": []
  },
  {
   "cell_type": "code",
   "execution_count": 39,
   "id": "17b23a64-7b17-49b9-872f-7d961e01237c",
   "metadata": {},
   "outputs": [
    {
     "data": {
      "text/plain": [
       "cancer_p\n",
       "0           6705\n",
       "1           4469\n",
       "dtype: int64"
      ]
     },
     "execution_count": 39,
     "metadata": {},
     "output_type": "execute_result"
    }
   ],
   "source": []
  },
  {
   "cell_type": "code",
   "execution_count": 20,
   "id": "792b5144-de1e-46cd-bff3-4176125f102f",
   "metadata": {},
   "outputs": [],
   "source": [
    "test_data['cancer_p'] = predictions_all"
   ]
  },
  {
   "cell_type": "code",
   "execution_count": 21,
   "id": "c7973dd5-fed6-41f5-95ae-fda6a66f64ee",
   "metadata": {},
   "outputs": [],
   "source": [
    "test_data['cancer_t'] = test_data['cancer']"
   ]
  },
  {
   "cell_type": "code",
   "execution_count": 22,
   "id": "7be0e831-98a3-449e-95e1-d0556a194e2a",
   "metadata": {},
   "outputs": [
    {
     "data": {
      "text/html": [
       "<div>\n",
       "<style scoped>\n",
       "    .dataframe tbody tr th:only-of-type {\n",
       "        vertical-align: middle;\n",
       "    }\n",
       "\n",
       "    .dataframe tbody tr th {\n",
       "        vertical-align: top;\n",
       "    }\n",
       "\n",
       "    .dataframe thead th {\n",
       "        text-align: right;\n",
       "    }\n",
       "</style>\n",
       "<table border=\"1\" class=\"dataframe\">\n",
       "  <thead>\n",
       "    <tr style=\"text-align: right;\">\n",
       "      <th></th>\n",
       "      <th>site_id</th>\n",
       "      <th>patient_id</th>\n",
       "      <th>image_id</th>\n",
       "      <th>laterality</th>\n",
       "      <th>view</th>\n",
       "      <th>age</th>\n",
       "      <th>cancer</th>\n",
       "      <th>biopsy</th>\n",
       "      <th>invasive</th>\n",
       "      <th>BIRADS</th>\n",
       "      <th>...</th>\n",
       "      <th>machine_id</th>\n",
       "      <th>difficult_negative_case</th>\n",
       "      <th>orientation</th>\n",
       "      <th>orignal_path</th>\n",
       "      <th>dump_path</th>\n",
       "      <th>kfold</th>\n",
       "      <th>mean_age</th>\n",
       "      <th>weights</th>\n",
       "      <th>cancer_p</th>\n",
       "      <th>cancer_t</th>\n",
       "    </tr>\n",
       "  </thead>\n",
       "  <tbody>\n",
       "  </tbody>\n",
       "</table>\n",
       "<p>0 rows × 22 columns</p>\n",
       "</div>"
      ],
      "text/plain": [
       "Empty DataFrame\n",
       "Columns: [site_id, patient_id, image_id, laterality, view, age, cancer, biopsy, invasive, BIRADS, implant, density, machine_id, difficult_negative_case, orientation, orignal_path, dump_path, kfold, mean_age, weights, cancer_p, cancer_t]\n",
       "Index: []\n",
       "\n",
       "[0 rows x 22 columns]"
      ]
     },
     "execution_count": 22,
     "metadata": {},
     "output_type": "execute_result"
    }
   ],
   "source": [
    "test_data[test_data.cancer_p.isnull()] "
   ]
  },
  {
   "cell_type": "code",
   "execution_count": 63,
   "id": "034c9356-8327-425e-a5cf-5dc7ea38b65e",
   "metadata": {},
   "outputs": [],
   "source": [
    "test_data['cancer_p'] = np.where(test_data['cancer_p']>0.5,1,0)"
   ]
  },
  {
   "cell_type": "code",
   "execution_count": 53,
   "id": "55604cb4-31b5-4d7d-8206-654d63336b82",
   "metadata": {},
   "outputs": [
    {
     "data": {
      "text/plain": [
       "array([[  0,   0],\n",
       "       [768, 606]])"
      ]
     },
     "execution_count": 53,
     "metadata": {},
     "output_type": "execute_result"
    }
   ],
   "source": [
    "metrics.confusion_matrix(external_data['cancer_t'],np.where(external_data['cancer_p']>0.5,1,0))"
   ]
  },
  {
   "cell_type": "code",
   "execution_count": 56,
   "id": "9321bcb2-81b7-4a01-9818-1b5dd8f065a6",
   "metadata": {},
   "outputs": [
    {
     "data": {
      "text/plain": [
       "array([[10633,    77],\n",
       "       [  198,   266]])"
      ]
     },
     "execution_count": 56,
     "metadata": {},
     "output_type": "execute_result"
    }
   ],
   "source": [
    "metrics.confusion_matrix(test_data['cancer_t'],np.where(test_data['cancer_p']>0.3,1,0))"
   ]
  },
  {
   "cell_type": "code",
   "execution_count": 64,
   "id": "2d0ab7a8-7df5-4999-b131-23dca2beb4b4",
   "metadata": {},
   "outputs": [
    {
     "data": {
      "text/plain": [
       "array([[10668,    42],\n",
       "       [  205,   259]])"
      ]
     },
     "execution_count": 64,
     "metadata": {},
     "output_type": "execute_result"
    }
   ],
   "source": [
    "metrics.confusion_matrix(test_data['cancer_t'],np.where(test_data['cancer_p']>0.5,1,0))"
   ]
  },
  {
   "cell_type": "code",
   "execution_count": 65,
   "id": "462f0cb8-ffba-46c2-a6dc-859a8f191110",
   "metadata": {},
   "outputs": [
    {
     "data": {
      "text/plain": [
       "0.6771241829976846"
      ]
     },
     "execution_count": 65,
     "metadata": {},
     "output_type": "execute_result"
    }
   ],
   "source": [
    "compute_pfbeta(test_data['cancer_t'], test_data['cancer_p'])"
   ]
  },
  {
   "cell_type": "code",
   "execution_count": 35,
   "id": "ae1fad9b-7236-4e8a-983b-839da9f862e4",
   "metadata": {},
   "outputs": [],
   "source": [
    "# compute_pfbeta(external_data['cancer_t'], external_data['cancer_p'])"
   ]
  },
  {
   "cell_type": "code",
   "execution_count": 58,
   "id": "8e608d13-2f41-42fd-bf7d-41925344ff81",
   "metadata": {},
   "outputs": [],
   "source": [
    "# import torch"
   ]
  },
  {
   "cell_type": "code",
   "execution_count": 41,
   "id": "26dd4ca8-7fe2-4d5c-84f3-842dad3904ff",
   "metadata": {},
   "outputs": [],
   "source": [
    "check_df = pd.DataFrame(label_ids,columns=['image_id'])\n",
    "check_df['cancer_p'] = cancer_p\n",
    "check_df['cancer_t'] = cancer_t"
   ]
  },
  {
   "cell_type": "code",
   "execution_count": 42,
   "id": "d360bc4d-53df-42b8-838a-e1a34e1b3c7c",
   "metadata": {},
   "outputs": [
    {
     "data": {
      "text/plain": [
       "(11165, 11165, (11165, 20))"
      ]
     },
     "execution_count": 42,
     "metadata": {},
     "output_type": "execute_result"
    }
   ],
   "source": [
    "len(cancer_t) , len(cancer_p), valid_df.shape"
   ]
  },
  {
   "cell_type": "code",
   "execution_count": 43,
   "id": "fb91d4ed-3bfe-4fef-8e18-92207dbe05ed",
   "metadata": {},
   "outputs": [
    {
     "data": {
      "text/plain": [
       "(11165, 3)"
      ]
     },
     "execution_count": 43,
     "metadata": {},
     "output_type": "execute_result"
    }
   ],
   "source": [
    "check_df.shape"
   ]
  },
  {
   "cell_type": "code",
   "execution_count": 44,
   "id": "f6adb9ba-1a63-4d97-8f05-bb7590297d0f",
   "metadata": {},
   "outputs": [],
   "source": [
    "duplicates = check_df.duplicated()"
   ]
  },
  {
   "cell_type": "code",
   "execution_count": 45,
   "id": "7c9d2aa9-a0c2-4af9-8cad-40d72017e32f",
   "metadata": {},
   "outputs": [
    {
     "data": {
      "text/html": [
       "<div>\n",
       "<style scoped>\n",
       "    .dataframe tbody tr th:only-of-type {\n",
       "        vertical-align: middle;\n",
       "    }\n",
       "\n",
       "    .dataframe tbody tr th {\n",
       "        vertical-align: top;\n",
       "    }\n",
       "\n",
       "    .dataframe thead th {\n",
       "        text-align: right;\n",
       "    }\n",
       "</style>\n",
       "<table border=\"1\" class=\"dataframe\">\n",
       "  <thead>\n",
       "    <tr style=\"text-align: right;\">\n",
       "      <th></th>\n",
       "      <th>image_id</th>\n",
       "      <th>cancer_p</th>\n",
       "      <th>cancer_t</th>\n",
       "    </tr>\n",
       "  </thead>\n",
       "  <tbody>\n",
       "    <tr>\n",
       "      <th>11162</th>\n",
       "      <td>8255560.0</td>\n",
       "      <td>0.001106</td>\n",
       "      <td>0.0</td>\n",
       "    </tr>\n",
       "  </tbody>\n",
       "</table>\n",
       "</div>"
      ],
      "text/plain": [
       "        image_id  cancer_p  cancer_t\n",
       "11162  8255560.0  0.001106       0.0"
      ]
     },
     "execution_count": 45,
     "metadata": {},
     "output_type": "execute_result"
    }
   ],
   "source": [
    "check_df[duplicates]"
   ]
  },
  {
   "cell_type": "code",
   "execution_count": 46,
   "id": "36b300d0-d229-4085-b08a-12c4b88de7cc",
   "metadata": {},
   "outputs": [
    {
     "data": {
      "text/plain": [
       "(11157, 11165)"
      ]
     },
     "execution_count": 46,
     "metadata": {},
     "output_type": "execute_result"
    }
   ],
   "source": [
    "check_df['image_id'].nunique() , valid_df['image_id'].nunique()"
   ]
  },
  {
   "cell_type": "code",
   "execution_count": 47,
   "id": "2becd7c0-9fda-446c-8cd1-1bbba1f1c4f8",
   "metadata": {},
   "outputs": [],
   "source": [
    "check_df.drop_duplicates(inplace=True)"
   ]
  },
  {
   "cell_type": "code",
   "execution_count": 48,
   "id": "f5ca01a9-a887-44f2-95e2-85cf5d082855",
   "metadata": {},
   "outputs": [],
   "source": [
    "# For investigaton\n",
    "# valid_df[~valid_df.image_id.isin(check_df['image_id'].unique())]"
   ]
  },
  {
   "cell_type": "code",
   "execution_count": 49,
   "id": "76c3b927-6ea2-4e00-b494-da62fdd783fd",
   "metadata": {},
   "outputs": [],
   "source": [
    "valid_df = valid_df.merge(check_df, on=\"image_id\")"
   ]
  },
  {
   "cell_type": "code",
   "execution_count": 50,
   "id": "7054d2dd-a9ec-4052-bb1e-54f91a0b2d15",
   "metadata": {},
   "outputs": [],
   "source": [
    "valid_df['check_flag'] = valid_df['cancer_t'].astype(int) == valid_df['cancer'].astype(int)"
   ]
  },
  {
   "cell_type": "code",
   "execution_count": 51,
   "id": "9889a0ca-8738-422a-8325-24ac3ecdd345",
   "metadata": {},
   "outputs": [
    {
     "data": {
      "text/plain": [
       "(404, 23)"
      ]
     },
     "execution_count": 51,
     "metadata": {},
     "output_type": "execute_result"
    }
   ],
   "source": [
    "valid_df.shape"
   ]
  },
  {
   "cell_type": "code",
   "execution_count": 52,
   "id": "9e9a1449-1c4b-4540-b526-27ab45d13451",
   "metadata": {},
   "outputs": [
    {
     "data": {
      "text/plain": [
       "1.0    109\n",
       "0.0     62\n",
       "2.0     20\n",
       "Name: BIRADS, dtype: int64"
      ]
     },
     "execution_count": 52,
     "metadata": {},
     "output_type": "execute_result"
    }
   ],
   "source": [
    "valid_df['BIRADS'].value_counts()"
   ]
  },
  {
   "cell_type": "code",
   "execution_count": 53,
   "id": "33b76aa5-0313-4a70-810e-f52f62676062",
   "metadata": {},
   "outputs": [
    {
     "data": {
      "text/html": [
       "<div>\n",
       "<style scoped>\n",
       "    .dataframe tbody tr th:only-of-type {\n",
       "        vertical-align: middle;\n",
       "    }\n",
       "\n",
       "    .dataframe tbody tr th {\n",
       "        vertical-align: top;\n",
       "    }\n",
       "\n",
       "    .dataframe thead th {\n",
       "        text-align: right;\n",
       "    }\n",
       "</style>\n",
       "<table border=\"1\" class=\"dataframe\">\n",
       "  <thead>\n",
       "    <tr style=\"text-align: right;\">\n",
       "      <th></th>\n",
       "      <th>site_id</th>\n",
       "      <th>patient_id</th>\n",
       "      <th>image_id</th>\n",
       "      <th>laterality</th>\n",
       "      <th>view</th>\n",
       "      <th>age</th>\n",
       "      <th>cancer</th>\n",
       "      <th>biopsy</th>\n",
       "      <th>invasive</th>\n",
       "      <th>BIRADS</th>\n",
       "      <th>...</th>\n",
       "      <th>difficult_negative_case</th>\n",
       "      <th>orientation</th>\n",
       "      <th>orignal_path</th>\n",
       "      <th>dump_path</th>\n",
       "      <th>kfold</th>\n",
       "      <th>mean_age</th>\n",
       "      <th>weights</th>\n",
       "      <th>cancer_p</th>\n",
       "      <th>cancer_t</th>\n",
       "      <th>check_flag</th>\n",
       "    </tr>\n",
       "  </thead>\n",
       "  <tbody>\n",
       "    <tr>\n",
       "      <th>7</th>\n",
       "      <td>1</td>\n",
       "      <td>28989</td>\n",
       "      <td>382116832</td>\n",
       "      <td>1</td>\n",
       "      <td>1</td>\n",
       "      <td>52.0</td>\n",
       "      <td>1</td>\n",
       "      <td>1</td>\n",
       "      <td>1</td>\n",
       "      <td>0.0</td>\n",
       "      <td>...</td>\n",
       "      <td>False</td>\n",
       "      <td>R-CC</td>\n",
       "      <td>input_data/train_images/28989/382116832.dcm</td>\n",
       "      <td>input_data/train_images_png/28989/382116832.png</td>\n",
       "      <td>0</td>\n",
       "      <td>57.268687</td>\n",
       "      <td>3</td>\n",
       "      <td>0.846700</td>\n",
       "      <td>1.0</td>\n",
       "      <td>True</td>\n",
       "    </tr>\n",
       "    <tr>\n",
       "      <th>13</th>\n",
       "      <td>1</td>\n",
       "      <td>3542</td>\n",
       "      <td>593840512</td>\n",
       "      <td>1</td>\n",
       "      <td>1</td>\n",
       "      <td>68.0</td>\n",
       "      <td>1</td>\n",
       "      <td>1</td>\n",
       "      <td>1</td>\n",
       "      <td>0.0</td>\n",
       "      <td>...</td>\n",
       "      <td>False</td>\n",
       "      <td>R-CC</td>\n",
       "      <td>input_data/train_images/3542/593840512.dcm</td>\n",
       "      <td>input_data/train_images_png/3542/593840512.png</td>\n",
       "      <td>0</td>\n",
       "      <td>56.296552</td>\n",
       "      <td>3</td>\n",
       "      <td>0.554545</td>\n",
       "      <td>1.0</td>\n",
       "      <td>True</td>\n",
       "    </tr>\n",
       "    <tr>\n",
       "      <th>100</th>\n",
       "      <td>1</td>\n",
       "      <td>3542</td>\n",
       "      <td>14104315</td>\n",
       "      <td>1</td>\n",
       "      <td>0</td>\n",
       "      <td>68.0</td>\n",
       "      <td>1</td>\n",
       "      <td>1</td>\n",
       "      <td>1</td>\n",
       "      <td>0.0</td>\n",
       "      <td>...</td>\n",
       "      <td>False</td>\n",
       "      <td>R-MLO</td>\n",
       "      <td>input_data/train_images/3542/14104315.dcm</td>\n",
       "      <td>input_data/train_images_png/3542/14104315.png</td>\n",
       "      <td>0</td>\n",
       "      <td>56.296552</td>\n",
       "      <td>3</td>\n",
       "      <td>0.009511</td>\n",
       "      <td>1.0</td>\n",
       "      <td>True</td>\n",
       "    </tr>\n",
       "    <tr>\n",
       "      <th>150</th>\n",
       "      <td>2</td>\n",
       "      <td>23101</td>\n",
       "      <td>22058316</td>\n",
       "      <td>1</td>\n",
       "      <td>1</td>\n",
       "      <td>84.0</td>\n",
       "      <td>1</td>\n",
       "      <td>1</td>\n",
       "      <td>1</td>\n",
       "      <td>NaN</td>\n",
       "      <td>...</td>\n",
       "      <td>False</td>\n",
       "      <td>R-CC</td>\n",
       "      <td>input_data/train_images/23101/22058316.dcm</td>\n",
       "      <td>input_data/train_images_png/23101/22058316.png</td>\n",
       "      <td>0</td>\n",
       "      <td>59.153744</td>\n",
       "      <td>3</td>\n",
       "      <td>0.999707</td>\n",
       "      <td>1.0</td>\n",
       "      <td>True</td>\n",
       "    </tr>\n",
       "    <tr>\n",
       "      <th>161</th>\n",
       "      <td>2</td>\n",
       "      <td>53946</td>\n",
       "      <td>1239100800</td>\n",
       "      <td>0</td>\n",
       "      <td>1</td>\n",
       "      <td>64.0</td>\n",
       "      <td>1</td>\n",
       "      <td>1</td>\n",
       "      <td>1</td>\n",
       "      <td>NaN</td>\n",
       "      <td>...</td>\n",
       "      <td>False</td>\n",
       "      <td>L-CC</td>\n",
       "      <td>input_data/train_images/53946/1239100800.dcm</td>\n",
       "      <td>input_data/train_images_png/53946/1239100800.png</td>\n",
       "      <td>0</td>\n",
       "      <td>60.198516</td>\n",
       "      <td>3</td>\n",
       "      <td>0.016631</td>\n",
       "      <td>1.0</td>\n",
       "      <td>True</td>\n",
       "    </tr>\n",
       "    <tr>\n",
       "      <th>204</th>\n",
       "      <td>1</td>\n",
       "      <td>32740</td>\n",
       "      <td>208676208</td>\n",
       "      <td>1</td>\n",
       "      <td>0</td>\n",
       "      <td>77.0</td>\n",
       "      <td>1</td>\n",
       "      <td>1</td>\n",
       "      <td>1</td>\n",
       "      <td>0.0</td>\n",
       "      <td>...</td>\n",
       "      <td>False</td>\n",
       "      <td>R-MLO</td>\n",
       "      <td>input_data/train_images/32740/208676208.dcm</td>\n",
       "      <td>input_data/train_images_png/32740/208676208.png</td>\n",
       "      <td>0</td>\n",
       "      <td>57.268687</td>\n",
       "      <td>3</td>\n",
       "      <td>0.061983</td>\n",
       "      <td>1.0</td>\n",
       "      <td>True</td>\n",
       "    </tr>\n",
       "    <tr>\n",
       "      <th>238</th>\n",
       "      <td>2</td>\n",
       "      <td>6038</td>\n",
       "      <td>39672040</td>\n",
       "      <td>0</td>\n",
       "      <td>0</td>\n",
       "      <td>67.0</td>\n",
       "      <td>1</td>\n",
       "      <td>1</td>\n",
       "      <td>0</td>\n",
       "      <td>NaN</td>\n",
       "      <td>...</td>\n",
       "      <td>False</td>\n",
       "      <td>L-MLO</td>\n",
       "      <td>input_data/train_images/6038/39672040.dcm</td>\n",
       "      <td>input_data/train_images_png/6038/39672040.png</td>\n",
       "      <td>0</td>\n",
       "      <td>60.435452</td>\n",
       "      <td>3</td>\n",
       "      <td>0.869812</td>\n",
       "      <td>1.0</td>\n",
       "      <td>True</td>\n",
       "    </tr>\n",
       "    <tr>\n",
       "      <th>260</th>\n",
       "      <td>1</td>\n",
       "      <td>28057</td>\n",
       "      <td>1858505984</td>\n",
       "      <td>1</td>\n",
       "      <td>0</td>\n",
       "      <td>73.0</td>\n",
       "      <td>1</td>\n",
       "      <td>1</td>\n",
       "      <td>0</td>\n",
       "      <td>0.0</td>\n",
       "      <td>...</td>\n",
       "      <td>False</td>\n",
       "      <td>R-MLO</td>\n",
       "      <td>input_data/train_images/28057/1534271742.dcm</td>\n",
       "      <td>input_data/train_cropped_1536/28057/1534271742...</td>\n",
       "      <td>0</td>\n",
       "      <td>57.268687</td>\n",
       "      <td>3</td>\n",
       "      <td>0.981928</td>\n",
       "      <td>1.0</td>\n",
       "      <td>True</td>\n",
       "    </tr>\n",
       "    <tr>\n",
       "      <th>313</th>\n",
       "      <td>1</td>\n",
       "      <td>12725</td>\n",
       "      <td>480261408</td>\n",
       "      <td>0</td>\n",
       "      <td>0</td>\n",
       "      <td>60.0</td>\n",
       "      <td>1</td>\n",
       "      <td>1</td>\n",
       "      <td>1</td>\n",
       "      <td>0.0</td>\n",
       "      <td>...</td>\n",
       "      <td>False</td>\n",
       "      <td>L-MLO</td>\n",
       "      <td>input_data/train_images/12725/156027166.dcm</td>\n",
       "      <td>input_data/train_cropped_1536/12725/156027166.png</td>\n",
       "      <td>0</td>\n",
       "      <td>57.268687</td>\n",
       "      <td>3</td>\n",
       "      <td>0.963183</td>\n",
       "      <td>1.0</td>\n",
       "      <td>True</td>\n",
       "    </tr>\n",
       "    <tr>\n",
       "      <th>319</th>\n",
       "      <td>1</td>\n",
       "      <td>39702</td>\n",
       "      <td>1888808064</td>\n",
       "      <td>1</td>\n",
       "      <td>0</td>\n",
       "      <td>79.0</td>\n",
       "      <td>1</td>\n",
       "      <td>1</td>\n",
       "      <td>0</td>\n",
       "      <td>0.0</td>\n",
       "      <td>...</td>\n",
       "      <td>False</td>\n",
       "      <td>R-MLO</td>\n",
       "      <td>input_data/train_images/39702/1888808064.dcm</td>\n",
       "      <td>input_data/train_images_png/39702/1888808064.png</td>\n",
       "      <td>0</td>\n",
       "      <td>57.268687</td>\n",
       "      <td>3</td>\n",
       "      <td>0.976107</td>\n",
       "      <td>1.0</td>\n",
       "      <td>True</td>\n",
       "    </tr>\n",
       "    <tr>\n",
       "      <th>328</th>\n",
       "      <td>2</td>\n",
       "      <td>43880</td>\n",
       "      <td>290983776</td>\n",
       "      <td>0</td>\n",
       "      <td>0</td>\n",
       "      <td>73.0</td>\n",
       "      <td>1</td>\n",
       "      <td>1</td>\n",
       "      <td>1</td>\n",
       "      <td>NaN</td>\n",
       "      <td>...</td>\n",
       "      <td>False</td>\n",
       "      <td>L-MLO</td>\n",
       "      <td>input_data/train_images/43880/290983776.dcm</td>\n",
       "      <td>input_data/train_images_png/43880/290983776.png</td>\n",
       "      <td>0</td>\n",
       "      <td>60.198516</td>\n",
       "      <td>3</td>\n",
       "      <td>0.053527</td>\n",
       "      <td>1.0</td>\n",
       "      <td>True</td>\n",
       "    </tr>\n",
       "    <tr>\n",
       "      <th>346</th>\n",
       "      <td>2</td>\n",
       "      <td>48171</td>\n",
       "      <td>373646784</td>\n",
       "      <td>0</td>\n",
       "      <td>0</td>\n",
       "      <td>72.0</td>\n",
       "      <td>1</td>\n",
       "      <td>1</td>\n",
       "      <td>1</td>\n",
       "      <td>NaN</td>\n",
       "      <td>...</td>\n",
       "      <td>False</td>\n",
       "      <td>L-MLO</td>\n",
       "      <td>input_data/train_images/48171/373646784.dcm</td>\n",
       "      <td>input_data/train_images_png/48171/373646784.png</td>\n",
       "      <td>0</td>\n",
       "      <td>60.435452</td>\n",
       "      <td>3</td>\n",
       "      <td>0.044924</td>\n",
       "      <td>1.0</td>\n",
       "      <td>True</td>\n",
       "    </tr>\n",
       "    <tr>\n",
       "      <th>350</th>\n",
       "      <td>2</td>\n",
       "      <td>2346</td>\n",
       "      <td>129609192</td>\n",
       "      <td>1</td>\n",
       "      <td>1</td>\n",
       "      <td>69.0</td>\n",
       "      <td>1</td>\n",
       "      <td>1</td>\n",
       "      <td>1</td>\n",
       "      <td>NaN</td>\n",
       "      <td>...</td>\n",
       "      <td>False</td>\n",
       "      <td>R-CC</td>\n",
       "      <td>input_data/train_images/2346/129609192.dcm</td>\n",
       "      <td>input_data/train_images_png/2346/129609192.png</td>\n",
       "      <td>0</td>\n",
       "      <td>60.435452</td>\n",
       "      <td>3</td>\n",
       "      <td>0.887008</td>\n",
       "      <td>1.0</td>\n",
       "      <td>True</td>\n",
       "    </tr>\n",
       "    <tr>\n",
       "      <th>371</th>\n",
       "      <td>1</td>\n",
       "      <td>65077</td>\n",
       "      <td>1037643968</td>\n",
       "      <td>0</td>\n",
       "      <td>1</td>\n",
       "      <td>74.0</td>\n",
       "      <td>1</td>\n",
       "      <td>1</td>\n",
       "      <td>0</td>\n",
       "      <td>0.0</td>\n",
       "      <td>...</td>\n",
       "      <td>False</td>\n",
       "      <td>L-CC</td>\n",
       "      <td>input_data/train_images/65077/713409726.dcm</td>\n",
       "      <td>input_data/train_cropped_1536/65077/713409726.png</td>\n",
       "      <td>0</td>\n",
       "      <td>57.268687</td>\n",
       "      <td>3</td>\n",
       "      <td>0.000505</td>\n",
       "      <td>1.0</td>\n",
       "      <td>True</td>\n",
       "    </tr>\n",
       "    <tr>\n",
       "      <th>396</th>\n",
       "      <td>2</td>\n",
       "      <td>9201</td>\n",
       "      <td>18384498</td>\n",
       "      <td>0</td>\n",
       "      <td>1</td>\n",
       "      <td>58.0</td>\n",
       "      <td>1</td>\n",
       "      <td>1</td>\n",
       "      <td>1</td>\n",
       "      <td>NaN</td>\n",
       "      <td>...</td>\n",
       "      <td>False</td>\n",
       "      <td>L-CC</td>\n",
       "      <td>input_data/train_images/9201/18384498.dcm</td>\n",
       "      <td>input_data/train_images_png/9201/18384498.png</td>\n",
       "      <td>0</td>\n",
       "      <td>59.153744</td>\n",
       "      <td>3</td>\n",
       "      <td>0.692446</td>\n",
       "      <td>1.0</td>\n",
       "      <td>True</td>\n",
       "    </tr>\n",
       "  </tbody>\n",
       "</table>\n",
       "<p>15 rows × 23 columns</p>\n",
       "</div>"
      ],
      "text/plain": [
       "     site_id  patient_id    image_id  laterality  view   age  cancer  biopsy  \\\n",
       "7          1       28989   382116832           1     1  52.0       1       1   \n",
       "13         1        3542   593840512           1     1  68.0       1       1   \n",
       "100        1        3542    14104315           1     0  68.0       1       1   \n",
       "150        2       23101    22058316           1     1  84.0       1       1   \n",
       "161        2       53946  1239100800           0     1  64.0       1       1   \n",
       "204        1       32740   208676208           1     0  77.0       1       1   \n",
       "238        2        6038    39672040           0     0  67.0       1       1   \n",
       "260        1       28057  1858505984           1     0  73.0       1       1   \n",
       "313        1       12725   480261408           0     0  60.0       1       1   \n",
       "319        1       39702  1888808064           1     0  79.0       1       1   \n",
       "328        2       43880   290983776           0     0  73.0       1       1   \n",
       "346        2       48171   373646784           0     0  72.0       1       1   \n",
       "350        2        2346   129609192           1     1  69.0       1       1   \n",
       "371        1       65077  1037643968           0     1  74.0       1       1   \n",
       "396        2        9201    18384498           0     1  58.0       1       1   \n",
       "\n",
       "     invasive  BIRADS  ...  difficult_negative_case orientation  \\\n",
       "7           1     0.0  ...                    False        R-CC   \n",
       "13          1     0.0  ...                    False        R-CC   \n",
       "100         1     0.0  ...                    False       R-MLO   \n",
       "150         1     NaN  ...                    False        R-CC   \n",
       "161         1     NaN  ...                    False        L-CC   \n",
       "204         1     0.0  ...                    False       R-MLO   \n",
       "238         0     NaN  ...                    False       L-MLO   \n",
       "260         0     0.0  ...                    False       R-MLO   \n",
       "313         1     0.0  ...                    False       L-MLO   \n",
       "319         0     0.0  ...                    False       R-MLO   \n",
       "328         1     NaN  ...                    False       L-MLO   \n",
       "346         1     NaN  ...                    False       L-MLO   \n",
       "350         1     NaN  ...                    False        R-CC   \n",
       "371         0     0.0  ...                    False        L-CC   \n",
       "396         1     NaN  ...                    False        L-CC   \n",
       "\n",
       "                                     orignal_path  \\\n",
       "7     input_data/train_images/28989/382116832.dcm   \n",
       "13     input_data/train_images/3542/593840512.dcm   \n",
       "100     input_data/train_images/3542/14104315.dcm   \n",
       "150    input_data/train_images/23101/22058316.dcm   \n",
       "161  input_data/train_images/53946/1239100800.dcm   \n",
       "204   input_data/train_images/32740/208676208.dcm   \n",
       "238     input_data/train_images/6038/39672040.dcm   \n",
       "260  input_data/train_images/28057/1534271742.dcm   \n",
       "313   input_data/train_images/12725/156027166.dcm   \n",
       "319  input_data/train_images/39702/1888808064.dcm   \n",
       "328   input_data/train_images/43880/290983776.dcm   \n",
       "346   input_data/train_images/48171/373646784.dcm   \n",
       "350    input_data/train_images/2346/129609192.dcm   \n",
       "371   input_data/train_images/65077/713409726.dcm   \n",
       "396     input_data/train_images/9201/18384498.dcm   \n",
       "\n",
       "                                             dump_path kfold   mean_age  \\\n",
       "7      input_data/train_images_png/28989/382116832.png     0  57.268687   \n",
       "13      input_data/train_images_png/3542/593840512.png     0  56.296552   \n",
       "100      input_data/train_images_png/3542/14104315.png     0  56.296552   \n",
       "150     input_data/train_images_png/23101/22058316.png     0  59.153744   \n",
       "161   input_data/train_images_png/53946/1239100800.png     0  60.198516   \n",
       "204    input_data/train_images_png/32740/208676208.png     0  57.268687   \n",
       "238      input_data/train_images_png/6038/39672040.png     0  60.435452   \n",
       "260  input_data/train_cropped_1536/28057/1534271742...     0  57.268687   \n",
       "313  input_data/train_cropped_1536/12725/156027166.png     0  57.268687   \n",
       "319   input_data/train_images_png/39702/1888808064.png     0  57.268687   \n",
       "328    input_data/train_images_png/43880/290983776.png     0  60.198516   \n",
       "346    input_data/train_images_png/48171/373646784.png     0  60.435452   \n",
       "350     input_data/train_images_png/2346/129609192.png     0  60.435452   \n",
       "371  input_data/train_cropped_1536/65077/713409726.png     0  57.268687   \n",
       "396      input_data/train_images_png/9201/18384498.png     0  59.153744   \n",
       "\n",
       "    weights  cancer_p  cancer_t  check_flag  \n",
       "7         3  0.846700       1.0        True  \n",
       "13        3  0.554545       1.0        True  \n",
       "100       3  0.009511       1.0        True  \n",
       "150       3  0.999707       1.0        True  \n",
       "161       3  0.016631       1.0        True  \n",
       "204       3  0.061983       1.0        True  \n",
       "238       3  0.869812       1.0        True  \n",
       "260       3  0.981928       1.0        True  \n",
       "313       3  0.963183       1.0        True  \n",
       "319       3  0.976107       1.0        True  \n",
       "328       3  0.053527       1.0        True  \n",
       "346       3  0.044924       1.0        True  \n",
       "350       3  0.887008       1.0        True  \n",
       "371       3  0.000505       1.0        True  \n",
       "396       3  0.692446       1.0        True  \n",
       "\n",
       "[15 rows x 23 columns]"
      ]
     },
     "execution_count": 53,
     "metadata": {},
     "output_type": "execute_result"
    }
   ],
   "source": [
    "valid_df[valid_df.cancer==1]"
   ]
  },
  {
   "cell_type": "code",
   "execution_count": 54,
   "id": "e7a52643-f1ce-44e6-ab4a-643d11d951c4",
   "metadata": {},
   "outputs": [],
   "source": [
    "# valid_df.shape"
   ]
  },
  {
   "cell_type": "code",
   "execution_count": 55,
   "id": "4fa78748-3aa5-4ab3-9893-b92490b8f158",
   "metadata": {},
   "outputs": [],
   "source": [
    "for site_id in [1]:\n",
    "\n",
    "        #log.write(f'*** site_id [{site_id}] ***\\n')\n",
    "        #log.write(f'\\n')\n",
    "\n",
    "        if site_id>0:\n",
    "            site_df = valid_df[valid_df.site_id == site_id].reset_index(drop=True)\n",
    "        else:\n",
    "            site_df = valid_df\n",
    "        # ---\n",
    "        gb = site_df[['patient_id', 'laterality', 'cancer_t', 'cancer_p']].groupby(['patient_id', 'laterality']).mean()\n",
    "        if site_id ==0:\n",
    "            break\n",
    "            m = compute_metric(gb.cancer_p.values, gb.cancer_t.values)\n",
    "        \n",
    "        "
   ]
  },
  {
   "cell_type": "code",
   "execution_count": 56,
   "id": "5ed805fc-7067-4191-b9fc-acb6523ca6df",
   "metadata": {},
   "outputs": [
    {
     "data": {
      "text/plain": [
       "array([[196,  13],\n",
       "       [  3,   5]])"
      ]
     },
     "execution_count": 56,
     "metadata": {},
     "output_type": "execute_result"
    }
   ],
   "source": [
    "metrics.confusion_matrix(site_df['cancer_t'],np.where(site_df['cancer_p']>0.3,1,0))"
   ]
  },
  {
   "cell_type": "code",
   "execution_count": 57,
   "id": "a6461282-c903-41b4-a6e0-8285b5c3c189",
   "metadata": {},
   "outputs": [
    {
     "data": {
      "text/plain": [
       "0.625"
      ]
     },
     "execution_count": 57,
     "metadata": {},
     "output_type": "execute_result"
    }
   ],
   "source": [
    "metrics.recall_score(site_df['cancer_t'],np.where(site_df['cancer_p']>0.3,1,0))"
   ]
  },
  {
   "cell_type": "code",
   "execution_count": 58,
   "id": "c8ec6fa7-8ab8-4bd2-80c2-ad0d658ee60a",
   "metadata": {},
   "outputs": [
    {
     "data": {
      "text/plain": [
       "0.2777777777777778"
      ]
     },
     "execution_count": 58,
     "metadata": {},
     "output_type": "execute_result"
    }
   ],
   "source": [
    "metrics.precision_score(site_df['cancer_t'],np.where(site_df['cancer_p']>0.3,1,0))"
   ]
  },
  {
   "cell_type": "code",
   "execution_count": 59,
   "id": "f8532b89-9d00-41fc-b4d1-0787a69ed960",
   "metadata": {},
   "outputs": [
    {
     "data": {
      "text/plain": [
       "0.45454545433884297"
      ]
     },
     "execution_count": 59,
     "metadata": {},
     "output_type": "execute_result"
    }
   ],
   "source": [
    "compute_pfbeta(site_df['cancer_t'],np.where(site_df['cancer_p']>0.5,1,0))"
   ]
  },
  {
   "cell_type": "code",
   "execution_count": 60,
   "id": "1e9ca6fd-676d-41a8-b97b-6b952da1c6a6",
   "metadata": {},
   "outputs": [],
   "source": [
    "# gb[~gb.cancer_t.isin([0,1])]"
   ]
  },
  {
   "cell_type": "code",
   "execution_count": 61,
   "id": "39c270fd-6599-4660-ac74-24c688909c57",
   "metadata": {},
   "outputs": [
    {
     "data": {
      "text/plain": [
       "0    404\n",
       "Name: kfold, dtype: int64"
      ]
     },
     "execution_count": 61,
     "metadata": {},
     "output_type": "execute_result"
    }
   ],
   "source": [
    "valid_df.kfold.value_counts()"
   ]
  },
  {
   "cell_type": "code",
   "execution_count": 62,
   "id": "05e63b52-8fcb-4a28-9d98-d73ec608ebe6",
   "metadata": {},
   "outputs": [
    {
     "data": {
      "text/plain": [
       "(11165, 11165)"
      ]
     },
     "execution_count": 62,
     "metadata": {},
     "output_type": "execute_result"
    }
   ],
   "source": [
    "len(cancer_p), len(cancer_t)"
   ]
  },
  {
   "cell_type": "code",
   "execution_count": 63,
   "id": "ed67cc59-ed0a-46ff-9810-e6b1241705c5",
   "metadata": {},
   "outputs": [],
   "source": [
    "# num_samples = 10934\n",
    "# world_size = 8\n",
    "# VALID_BATCH_SIZE = 36"
   ]
  },
  {
   "cell_type": "code",
   "execution_count": 64,
   "id": "cc03ec06-752f-4826-8272-379e46a4fcab",
   "metadata": {},
   "outputs": [],
   "source": [
    "# import torch"
   ]
  },
  {
   "cell_type": "code",
   "execution_count": 65,
   "id": "05a2a8fd-6cd7-49e2-abe5-cf97193f58ea",
   "metadata": {},
   "outputs": [],
   "source": [
    "# cancer_p = cancer_p[0:len(valid_df)]\n",
    "# cancer_t = cancer_t[0:len(valid_df)]\n"
   ]
  },
  {
   "cell_type": "code",
   "execution_count": 66,
   "id": "44d357c3-46e0-43c2-9e07-752bd010f549",
   "metadata": {},
   "outputs": [
    {
     "data": {
      "text/plain": [
       "True    404\n",
       "Name: check_flag, dtype: int64"
      ]
     },
     "execution_count": 66,
     "metadata": {},
     "output_type": "execute_result"
    }
   ],
   "source": [
    "valid_df['check_flag'].value_counts()"
   ]
  },
  {
   "cell_type": "code",
   "execution_count": 67,
   "id": "a6070bef-6879-4a1b-a384-ce0821b490a6",
   "metadata": {},
   "outputs": [],
   "source": [
    "# Sanity checks"
   ]
  },
  {
   "cell_type": "code",
   "execution_count": 68,
   "id": "e08e4565-2603-4913-b91a-0ed5fd544c2d",
   "metadata": {},
   "outputs": [
    {
     "data": {
      "text/plain": [
       "0.0    389\n",
       "1.0     15\n",
       "Name: cancer_t, dtype: int64"
      ]
     },
     "execution_count": 68,
     "metadata": {},
     "output_type": "execute_result"
    }
   ],
   "source": [
    "valid_df.cancer_t.value_counts()"
   ]
  },
  {
   "cell_type": "code",
   "execution_count": 69,
   "id": "ae30cdc5-dde9-43ce-ad13-d31de918a040",
   "metadata": {},
   "outputs": [
    {
     "data": {
      "text/plain": [
       "[]"
      ]
     },
     "execution_count": 69,
     "metadata": {},
     "output_type": "execute_result"
    },
    {
     "data": {
      "image/png": "[encoded data removed]",
      "text/plain": [
       "<Figure size 640x480 with 1 Axes>"
      ]
     },
     "metadata": {},
     "output_type": "display_data"
    }
   ],
   "source": [
    "valid_df['cancer_p'].hist().plot()"
   ]
  },
  {
   "cell_type": "code",
   "execution_count": 70,
   "id": "c816e742-89d3-4f03-af75-3eabac2f526c",
   "metadata": {},
   "outputs": [],
   "source": [
    "# valid_df[(valid_df.cancer_t==0) & (valid_df.cancer==1)][['image_id','cancer','cancer_t','check_flag']]"
   ]
  },
  {
   "cell_type": "code",
   "execution_count": 71,
   "id": "187a40c8-f93c-4b4b-a4fc-9691a934e767",
   "metadata": {},
   "outputs": [],
   "source": [
    "# 22 @ 85 thresh"
   ]
  },
  {
   "cell_type": "code",
   "execution_count": 72,
   "id": "42d86716-452d-4f80-bea7-d9f86fcd8d7d",
   "metadata": {},
   "outputs": [
    {
     "name": "stdout",
     "output_type": "stream",
     "text": [
      "                    \tauc      @th     f1      | \tprec    recall  | \tsens    spec \n",
      "single image     [0]\t0.89169\t0.81633\t0.55948 | \t0.69993\t0.46664 | \t0.46667\t0.99229\n",
      "grouby mean()    [0]\t0.89985\t0.81633\t0.58280 | \t0.69993\t0.49996 | \t0.50000\t0.99206\n",
      "grouby max()     [0]\t0.90060\t0.81633\t0.58280 | \t0.69993\t0.49996 | \t0.50000\t0.99206\n",
      "--------------\n",
      "\n",
      "single image     [1]\t0.85467\t0.81633\t0.53276 | \t0.57135\t0.49994 | \t0.50000\t0.98565\n",
      "grouby mean()    [1]\t0.87045\t0.81633\t0.57085 | \t0.57135\t0.57135 | \t0.57143\t0.98529\n",
      "grouby max()     [1]\t0.87325\t0.81633\t0.57085 | \t0.57135\t0.57135 | \t0.57143\t0.98529\n",
      "--------------\n",
      "\n",
      "single image     [2]\t0.95079\t0.44898\t0.66607 | \t0.79984\t0.57135 | \t0.57143\t0.99444\n",
      "grouby mean()    [2]\t0.94992\t0.44898\t0.66607 | \t0.79984\t0.57135 | \t0.57143\t0.99425\n",
      "grouby max()     [2]\t0.94910\t0.44898\t0.66607 | \t0.79984\t0.57135 | \t0.57143\t0.99425\n",
      "--------------\n",
      "\n",
      "grouby mean()   \t0.89985\t0.81633\t0.58280 | \t0.69993\t0.49996 | \t0.50000\t0.99206\n",
      "\n",
      "pfbeta 0.40642621579903415\n",
      "0.5827990176400252 0.6999300069993001 0.49996428826512396 0.8163265306122448\n",
      "[0.2, 0.3, 0.4, 0.5, 0.6, 0.7, 0.8]\n"
     ]
    },
    {
     "data": {
      "image/png": "[encoded data removed]",
      "text/plain": [
       "<Figure size 640x480 with 1 Axes>"
      ]
     },
     "metadata": {},
     "output_type": "display_data"
    },
    {
     "data": {
      "image/png": "[encoded data removed]",
      "text/plain": [
       "<Figure size 500x500 with 2 Axes>"
      ]
     },
     "metadata": {},
     "output_type": "display_data"
    }
   ],
   "source": [
    "#--------------------------\n",
    "\n",
    "# valid_df.loc[:, 'cancer_p'] = cancer_p #**0.5 #(cancer_p1 +cancer_p)/2 #cancer_p#\n",
    "# valid_df.loc[:, 'cancer_t'] = cancer_t\n",
    "print_all_metric(valid_df)\n",
    "\n",
    "\n",
    "gb = valid_df[['site_id', 'patient_id','laterality', 'cancer_t', 'cancer_p']].groupby(['patient_id', 'laterality']).mean()\n",
    "gb.loc[:, 'cancer_t'] = gb.cancer_t.astype(int)\n",
    "m = compute_metric(gb.cancer_p, gb.cancer_t)\n",
    "text = f'{\"grouby mean()\": <16}'\n",
    "text += f'\\t{m[\"auc\"]:0.5f}'\n",
    "text += f'\\t{m[\"threshold\"]:0.5f}'\n",
    "text += f'\\t{m[\"f1score\"]:0.5f} | '\n",
    "text += f'\\t{m[\"precision\"]:0.5f}'\n",
    "text += f'\\t{m[\"recall\"]:0.5f} | '\n",
    "text += f'\\t{m[\"sensitivity\"]:0.5f}'\n",
    "text += f'\\t{m[\"specificity\"]:0.5f}'\n",
    "text += '\\n'\n",
    "print(text)\n",
    "\n",
    "pfbeta = compute_pfbeta(gb.cancer_t.values, gb.cancer_p.values, beta=1)\n",
    "print('pfbeta',pfbeta)\n",
    "plot_auc(gb.cancer_p, gb.cancer_t, figure_num=100)\n",
    "\n",
    "\n",
    "f1score, precision, recall, threshold = get_f1score(gb.cancer_p, gb.cancer_t)\n",
    "i = f1score.argmax()\n",
    "f1score_max, precision_max, recall_max, threshold_max = f1score[i], precision[i], recall[i], threshold[i]\n",
    "print(f1score_max, precision_max, recall_max, threshold_max)\n",
    "\n",
    "precision, recall, threshold = metrics.precision_recall_curve(gb.cancer_t, gb.cancer_p)\n",
    "auc = metrics.auc(recall, precision)\n",
    "\n",
    "_, ax = plt.subplots(figsize=(5, 5))\n",
    "\n",
    "f_scores = [0.2,0.3,0.4,0.5,0.6,0.7,0.8] #np.linspace(0.2, 0.8, num=8)\n",
    "print(f_scores)\n",
    "lines, labels = [], []\n",
    "for f_score in f_scores:\n",
    "    x = np.linspace(0.01, 1)\n",
    "    y = f_score * x / (2 * x - f_score)\n",
    "    (l,) = plt.plot(x[y >= 0], y[y >= 0], color=\"gray\", alpha=0.2)\n",
    "    plt.annotate(\"f1={0:0.1f}\".format(f_score), xy=(0.9, y[45] + 0.02))\n",
    "ax.plot([0,1],[0,1], color=\"gray\", alpha=0.2)\n",
    "ax.plot(recall,precision)\n",
    "s=ax.scatter(recall[:-1],precision[:-1],c=threshold,cmap='hsv')\n",
    "ax.scatter(recall_max, precision_max,s=30,c='k')\n",
    "\n",
    "#---\n",
    "precision, recall, threshold = metrics.precision_recall_curve(gb.cancer_t[gb.site_id==1], gb.cancer_p[gb.site_id==1])\n",
    "ax.plot(recall,precision, '--', label='site_id=1')\n",
    "precision, recall, threshold = metrics.precision_recall_curve(gb.cancer_t[gb.site_id==2], gb.cancer_p[gb.site_id==2])\n",
    "ax.plot(recall,precision, '--', label='site_id=2')\n",
    "\n",
    "\n",
    "\n",
    "\n",
    "ax.set_xlim([0.0, 1.0])\n",
    "ax.set_ylim([0.0, 1.05])\n",
    "\n",
    "text=''\n",
    "text+=f'MAX f1score {f1score_max: 0.5f} @ th = {threshold_max: 0.5f}\\n'\n",
    "text+=f'prec {precision_max: 0.5f}, recall {recall_max: 0.5f}, pr-auc {auc: 0.5f}\\n'\n",
    "\n",
    "plt.legend()\n",
    "plt.title(text)\n",
    "plt.colorbar(s,label='threshold')\n",
    "plt.xlabel('recall')\n",
    "plt.ylabel('precision')\n",
    "plt.show()\n"
   ]
  },
  {
   "cell_type": "code",
   "execution_count": 58,
   "id": "9c6d5316-9d9a-4072-9f66-81fcbc1d2fe1",
   "metadata": {},
   "outputs": [],
   "source": [
    "# 31@50"
   ]
  },
  {
   "cell_type": "markdown",
   "id": "a3a65f8f-484c-4e12-910c-eab9b5b3cee5",
   "metadata": {},
   "source": [
    "## Old"
   ]
  },
  {
   "cell_type": "code",
   "execution_count": 22,
   "id": "f908bbc9-e9f9-40e6-b808-6b6cbce55e22",
   "metadata": {},
   "outputs": [
    {
     "data": {
      "text/html": [
       "<div>\n",
       "<style scoped>\n",
       "    .dataframe tbody tr th:only-of-type {\n",
       "        vertical-align: middle;\n",
       "    }\n",
       "\n",
       "    .dataframe tbody tr th {\n",
       "        vertical-align: top;\n",
       "    }\n",
       "\n",
       "    .dataframe thead th {\n",
       "        text-align: right;\n",
       "    }\n",
       "</style>\n",
       "<table border=\"1\" class=\"dataframe\">\n",
       "  <thead>\n",
       "    <tr style=\"text-align: right;\">\n",
       "      <th></th>\n",
       "      <th>site_id</th>\n",
       "      <th>patient_id</th>\n",
       "      <th>image_id</th>\n",
       "      <th>laterality</th>\n",
       "      <th>view</th>\n",
       "      <th>age</th>\n",
       "      <th>cancer</th>\n",
       "      <th>biopsy</th>\n",
       "      <th>invasive</th>\n",
       "      <th>BIRADS</th>\n",
       "      <th>...</th>\n",
       "      <th>machine_id</th>\n",
       "      <th>difficult_negative_case</th>\n",
       "      <th>orientation</th>\n",
       "      <th>orignal_path</th>\n",
       "      <th>dump_path</th>\n",
       "      <th>kfold</th>\n",
       "      <th>mean_age</th>\n",
       "      <th>weights</th>\n",
       "      <th>cancer_p</th>\n",
       "      <th>cancer_t</th>\n",
       "    </tr>\n",
       "  </thead>\n",
       "  <tbody>\n",
       "    <tr>\n",
       "      <th>0</th>\n",
       "      <td>1</td>\n",
       "      <td>52479</td>\n",
       "      <td>750902630</td>\n",
       "      <td>0</td>\n",
       "      <td>0</td>\n",
       "      <td>55.0</td>\n",
       "      <td>0</td>\n",
       "      <td>0</td>\n",
       "      <td>0</td>\n",
       "      <td>1.0</td>\n",
       "      <td>...</td>\n",
       "      <td>49</td>\n",
       "      <td>False</td>\n",
       "      <td>L-MLO</td>\n",
       "      <td>input_data/train_images/52479/750902630.dcm</td>\n",
       "      <td>input_data/train_crop_voilut_2048/52479/750902...</td>\n",
       "      <td>4</td>\n",
       "      <td>57.268687</td>\n",
       "      <td>1</td>\n",
       "      <td>0.001748</td>\n",
       "      <td>0</td>\n",
       "    </tr>\n",
       "    <tr>\n",
       "      <th>1</th>\n",
       "      <td>1</td>\n",
       "      <td>50741</td>\n",
       "      <td>2022788221</td>\n",
       "      <td>0</td>\n",
       "      <td>1</td>\n",
       "      <td>46.0</td>\n",
       "      <td>0</td>\n",
       "      <td>0</td>\n",
       "      <td>0</td>\n",
       "      <td>NaN</td>\n",
       "      <td>...</td>\n",
       "      <td>49</td>\n",
       "      <td>False</td>\n",
       "      <td>L-CC</td>\n",
       "      <td>input_data/train_images/50741/2022788221.dcm</td>\n",
       "      <td>input_data/train_crop_voilut_2048/50741/202278...</td>\n",
       "      <td>4</td>\n",
       "      <td>57.268687</td>\n",
       "      <td>1</td>\n",
       "      <td>0.009636</td>\n",
       "      <td>0</td>\n",
       "    </tr>\n",
       "    <tr>\n",
       "      <th>2</th>\n",
       "      <td>1</td>\n",
       "      <td>36853</td>\n",
       "      <td>1043124373</td>\n",
       "      <td>0</td>\n",
       "      <td>1</td>\n",
       "      <td>59.0</td>\n",
       "      <td>0</td>\n",
       "      <td>0</td>\n",
       "      <td>0</td>\n",
       "      <td>1.0</td>\n",
       "      <td>...</td>\n",
       "      <td>49</td>\n",
       "      <td>False</td>\n",
       "      <td>L-CC</td>\n",
       "      <td>input_data/train_images/36853/1043124373.dcm</td>\n",
       "      <td>input_data/train_crop_voilut_2048/36853/104312...</td>\n",
       "      <td>4</td>\n",
       "      <td>57.268687</td>\n",
       "      <td>1</td>\n",
       "      <td>0.069946</td>\n",
       "      <td>0</td>\n",
       "    </tr>\n",
       "    <tr>\n",
       "      <th>3</th>\n",
       "      <td>2</td>\n",
       "      <td>36713</td>\n",
       "      <td>204228793</td>\n",
       "      <td>1</td>\n",
       "      <td>1</td>\n",
       "      <td>65.0</td>\n",
       "      <td>0</td>\n",
       "      <td>0</td>\n",
       "      <td>0</td>\n",
       "      <td>NaN</td>\n",
       "      <td>...</td>\n",
       "      <td>29</td>\n",
       "      <td>False</td>\n",
       "      <td>R-CC</td>\n",
       "      <td>input_data/train_images/36713/204228793.dcm</td>\n",
       "      <td>input_data/train_crop_voilut_2048/36713/204228...</td>\n",
       "      <td>4</td>\n",
       "      <td>59.153744</td>\n",
       "      <td>1</td>\n",
       "      <td>0.056854</td>\n",
       "      <td>0</td>\n",
       "    </tr>\n",
       "    <tr>\n",
       "      <th>4</th>\n",
       "      <td>2</td>\n",
       "      <td>60227</td>\n",
       "      <td>1390966811</td>\n",
       "      <td>1</td>\n",
       "      <td>0</td>\n",
       "      <td>51.0</td>\n",
       "      <td>0</td>\n",
       "      <td>0</td>\n",
       "      <td>0</td>\n",
       "      <td>0.0</td>\n",
       "      <td>...</td>\n",
       "      <td>21</td>\n",
       "      <td>True</td>\n",
       "      <td>R-MLO</td>\n",
       "      <td>input_data/train_images/60227/1390966811.dcm</td>\n",
       "      <td>input_data/train_crop_voilut_2048/60227/139096...</td>\n",
       "      <td>4</td>\n",
       "      <td>60.198516</td>\n",
       "      <td>1</td>\n",
       "      <td>0.008675</td>\n",
       "      <td>0</td>\n",
       "    </tr>\n",
       "  </tbody>\n",
       "</table>\n",
       "<p>5 rows × 22 columns</p>\n",
       "</div>"
      ],
      "text/plain": [
       "   site_id  patient_id    image_id  laterality  view   age  cancer  biopsy  \\\n",
       "0        1       52479   750902630           0     0  55.0       0       0   \n",
       "1        1       50741  2022788221           0     1  46.0       0       0   \n",
       "2        1       36853  1043124373           0     1  59.0       0       0   \n",
       "3        2       36713   204228793           1     1  65.0       0       0   \n",
       "4        2       60227  1390966811           1     0  51.0       0       0   \n",
       "\n",
       "   invasive  BIRADS  ...  machine_id difficult_negative_case  orientation  \\\n",
       "0         0     1.0  ...          49                   False        L-MLO   \n",
       "1         0     NaN  ...          49                   False         L-CC   \n",
       "2         0     1.0  ...          49                   False         L-CC   \n",
       "3         0     NaN  ...          29                   False         R-CC   \n",
       "4         0     0.0  ...          21                    True        R-MLO   \n",
       "\n",
       "                                   orignal_path  \\\n",
       "0   input_data/train_images/52479/750902630.dcm   \n",
       "1  input_data/train_images/50741/2022788221.dcm   \n",
       "2  input_data/train_images/36853/1043124373.dcm   \n",
       "3   input_data/train_images/36713/204228793.dcm   \n",
       "4  input_data/train_images/60227/1390966811.dcm   \n",
       "\n",
       "                                           dump_path kfold   mean_age  \\\n",
       "0  input_data/train_crop_voilut_2048/52479/750902...     4  57.268687   \n",
       "1  input_data/train_crop_voilut_2048/50741/202278...     4  57.268687   \n",
       "2  input_data/train_crop_voilut_2048/36853/104312...     4  57.268687   \n",
       "3  input_data/train_crop_voilut_2048/36713/204228...     4  59.153744   \n",
       "4  input_data/train_crop_voilut_2048/60227/139096...     4  60.198516   \n",
       "\n",
       "   weights  cancer_p  cancer_t  \n",
       "0        1  0.001748         0  \n",
       "1        1  0.009636         0  \n",
       "2        1  0.069946         0  \n",
       "3        1  0.056854         0  \n",
       "4        1  0.008675         0  \n",
       "\n",
       "[5 rows x 22 columns]"
      ]
     },
     "execution_count": 22,
     "metadata": {},
     "output_type": "execute_result"
    }
   ],
   "source": [
    "test_data.head()"
   ]
  },
  {
   "cell_type": "code",
   "execution_count": 114,
   "id": "41b97454-c0a8-459b-aa5c-0465dbb9f787",
   "metadata": {},
   "outputs": [],
   "source": [
    "test_data['cancer_p'] = predictions_all\n",
    "test_data['cancer_t'] = test_data['cancer']"
   ]
  },
  {
   "cell_type": "code",
   "execution_count": 103,
   "id": "24bda081-467c-4579-b316-ac2570482d74",
   "metadata": {},
   "outputs": [],
   "source": [
    "test_data['cancer_p'] = np.where(test_data['cancer_p']>0.6,1,0)"
   ]
  },
  {
   "cell_type": "code",
   "execution_count": 104,
   "id": "3160d3d7-e10b-4f92-9ac5-5115f6473361",
   "metadata": {},
   "outputs": [
    {
     "data": {
      "text/plain": [
       "0    10875\n",
       "1      299\n",
       "Name: cancer_p, dtype: int64"
      ]
     },
     "execution_count": 104,
     "metadata": {},
     "output_type": "execute_result"
    }
   ],
   "source": [
    "test_data['cancer_p'].value_counts()"
   ]
  },
  {
   "cell_type": "code",
   "execution_count": 109,
   "id": "50dbfdea-b876-4a87-bb02-127b96445866",
   "metadata": {},
   "outputs": [],
   "source": [
    "gb = test_data[['site_id', 'patient_id','laterality', 'cancer_t', 'cancer_p']].groupby(['patient_id', 'laterality']).max()#.reset_index()\n",
    "gb.loc[:, 'cancer_t'] = gb.cancer_t.astype(int)"
   ]
  },
  {
   "cell_type": "code",
   "execution_count": 110,
   "id": "0343a000-ca0e-498d-a0f6-ea87492371ef",
   "metadata": {},
   "outputs": [],
   "source": [
    "th = np.quantile(gb['cancer_p'].values,0.97)\n",
    "gb['cancer_binarize']= (gb['cancer_p'].values > th).astype(int)\n",
    "\n"
   ]
  },
  {
   "cell_type": "code",
   "execution_count": 111,
   "id": "83d03f07-70d3-4883-a3e0-d7397ff473c8",
   "metadata": {},
   "outputs": [
    {
     "data": {
      "text/plain": [
       "0.9820312500000004"
      ]
     },
     "execution_count": 111,
     "metadata": {},
     "output_type": "execute_result"
    }
   ],
   "source": [
    "th"
   ]
  },
  {
   "cell_type": "code",
   "execution_count": 100,
   "id": "4c3f511c-0d59-463f-93f1-2503091ea2d2",
   "metadata": {},
   "outputs": [
    {
     "data": {
      "text/html": [
       "<div>\n",
       "<style scoped>\n",
       "    .dataframe tbody tr th:only-of-type {\n",
       "        vertical-align: middle;\n",
       "    }\n",
       "\n",
       "    .dataframe tbody tr th {\n",
       "        vertical-align: top;\n",
       "    }\n",
       "\n",
       "    .dataframe thead th {\n",
       "        text-align: right;\n",
       "    }\n",
       "</style>\n",
       "<table border=\"1\" class=\"dataframe\">\n",
       "  <thead>\n",
       "    <tr style=\"text-align: right;\">\n",
       "      <th></th>\n",
       "      <th>site_id</th>\n",
       "      <th>patient_id</th>\n",
       "      <th>image_id</th>\n",
       "      <th>laterality</th>\n",
       "      <th>view</th>\n",
       "      <th>age</th>\n",
       "      <th>cancer</th>\n",
       "      <th>biopsy</th>\n",
       "      <th>invasive</th>\n",
       "      <th>BIRADS</th>\n",
       "      <th>...</th>\n",
       "      <th>machine_id</th>\n",
       "      <th>difficult_negative_case</th>\n",
       "      <th>orientation</th>\n",
       "      <th>orignal_path</th>\n",
       "      <th>dump_path</th>\n",
       "      <th>kfold</th>\n",
       "      <th>mean_age</th>\n",
       "      <th>weights</th>\n",
       "      <th>cancer_p</th>\n",
       "      <th>cancer_t</th>\n",
       "    </tr>\n",
       "  </thead>\n",
       "  <tbody>\n",
       "    <tr>\n",
       "      <th>112</th>\n",
       "      <td>2</td>\n",
       "      <td>106</td>\n",
       "      <td>1495797827</td>\n",
       "      <td>1</td>\n",
       "      <td>0</td>\n",
       "      <td>65.0</td>\n",
       "      <td>0</td>\n",
       "      <td>0</td>\n",
       "      <td>0</td>\n",
       "      <td>NaN</td>\n",
       "      <td>...</td>\n",
       "      <td>21</td>\n",
       "      <td>False</td>\n",
       "      <td>R-MLO</td>\n",
       "      <td>input_data/train_images/106/1495797827.dcm</td>\n",
       "      <td>input_data/train_crop_voilut_2048/106/14957978...</td>\n",
       "      <td>4</td>\n",
       "      <td>60.198516</td>\n",
       "      <td>1</td>\n",
       "      <td>0.028702</td>\n",
       "      <td>0</td>\n",
       "    </tr>\n",
       "    <tr>\n",
       "      <th>639</th>\n",
       "      <td>2</td>\n",
       "      <td>106</td>\n",
       "      <td>2343060234</td>\n",
       "      <td>1</td>\n",
       "      <td>0</td>\n",
       "      <td>65.0</td>\n",
       "      <td>1</td>\n",
       "      <td>1</td>\n",
       "      <td>1</td>\n",
       "      <td>NaN</td>\n",
       "      <td>...</td>\n",
       "      <td>21</td>\n",
       "      <td>False</td>\n",
       "      <td>R-MLO</td>\n",
       "      <td>input_data/train_images/106/2018825992.dcm</td>\n",
       "      <td>input_data/train_crop_voilut_2048/106/23430602...</td>\n",
       "      <td>4</td>\n",
       "      <td>60.198516</td>\n",
       "      <td>3</td>\n",
       "      <td>1.000000</td>\n",
       "      <td>1</td>\n",
       "    </tr>\n",
       "    <tr>\n",
       "      <th>1257</th>\n",
       "      <td>2</td>\n",
       "      <td>106</td>\n",
       "      <td>400556009</td>\n",
       "      <td>1</td>\n",
       "      <td>1</td>\n",
       "      <td>65.0</td>\n",
       "      <td>1</td>\n",
       "      <td>1</td>\n",
       "      <td>1</td>\n",
       "      <td>NaN</td>\n",
       "      <td>...</td>\n",
       "      <td>21</td>\n",
       "      <td>False</td>\n",
       "      <td>R-CC</td>\n",
       "      <td>input_data/train_images/106/76321767.dcm</td>\n",
       "      <td>input_data/train_crop_voilut_2048/106/40055600...</td>\n",
       "      <td>4</td>\n",
       "      <td>60.198516</td>\n",
       "      <td>3</td>\n",
       "      <td>1.000000</td>\n",
       "      <td>1</td>\n",
       "    </tr>\n",
       "    <tr>\n",
       "      <th>3464</th>\n",
       "      <td>2</td>\n",
       "      <td>106</td>\n",
       "      <td>76321767</td>\n",
       "      <td>0</td>\n",
       "      <td>1</td>\n",
       "      <td>65.0</td>\n",
       "      <td>1</td>\n",
       "      <td>1</td>\n",
       "      <td>1</td>\n",
       "      <td>NaN</td>\n",
       "      <td>...</td>\n",
       "      <td>21</td>\n",
       "      <td>False</td>\n",
       "      <td>L-CC</td>\n",
       "      <td>input_data/train_images/106/76321767.dcm</td>\n",
       "      <td>input_data/train_crop_voilut_2048/106/76321767...</td>\n",
       "      <td>4</td>\n",
       "      <td>60.198516</td>\n",
       "      <td>3</td>\n",
       "      <td>0.196045</td>\n",
       "      <td>1</td>\n",
       "    </tr>\n",
       "    <tr>\n",
       "      <th>4199</th>\n",
       "      <td>2</td>\n",
       "      <td>106</td>\n",
       "      <td>1160585918</td>\n",
       "      <td>1</td>\n",
       "      <td>1</td>\n",
       "      <td>65.0</td>\n",
       "      <td>0</td>\n",
       "      <td>0</td>\n",
       "      <td>0</td>\n",
       "      <td>NaN</td>\n",
       "      <td>...</td>\n",
       "      <td>21</td>\n",
       "      <td>False</td>\n",
       "      <td>R-CC</td>\n",
       "      <td>input_data/train_images/106/1160585918.dcm</td>\n",
       "      <td>input_data/train_crop_voilut_2048/106/11605859...</td>\n",
       "      <td>4</td>\n",
       "      <td>60.198516</td>\n",
       "      <td>1</td>\n",
       "      <td>0.004314</td>\n",
       "      <td>0</td>\n",
       "    </tr>\n",
       "    <tr>\n",
       "      <th>6982</th>\n",
       "      <td>2</td>\n",
       "      <td>106</td>\n",
       "      <td>2018825992</td>\n",
       "      <td>0</td>\n",
       "      <td>0</td>\n",
       "      <td>65.0</td>\n",
       "      <td>1</td>\n",
       "      <td>1</td>\n",
       "      <td>1</td>\n",
       "      <td>NaN</td>\n",
       "      <td>...</td>\n",
       "      <td>21</td>\n",
       "      <td>False</td>\n",
       "      <td>L-MLO</td>\n",
       "      <td>input_data/train_images/106/2018825992.dcm</td>\n",
       "      <td>input_data/train_crop_voilut_2048/106/20188259...</td>\n",
       "      <td>4</td>\n",
       "      <td>60.198516</td>\n",
       "      <td>3</td>\n",
       "      <td>0.015190</td>\n",
       "      <td>1</td>\n",
       "    </tr>\n",
       "  </tbody>\n",
       "</table>\n",
       "<p>6 rows × 22 columns</p>\n",
       "</div>"
      ],
      "text/plain": [
       "      site_id  patient_id    image_id  laterality  view   age  cancer  biopsy  \\\n",
       "112         2         106  1495797827           1     0  65.0       0       0   \n",
       "639         2         106  2343060234           1     0  65.0       1       1   \n",
       "1257        2         106   400556009           1     1  65.0       1       1   \n",
       "3464        2         106    76321767           0     1  65.0       1       1   \n",
       "4199        2         106  1160585918           1     1  65.0       0       0   \n",
       "6982        2         106  2018825992           0     0  65.0       1       1   \n",
       "\n",
       "      invasive  BIRADS  ...  machine_id difficult_negative_case  orientation  \\\n",
       "112          0     NaN  ...          21                   False        R-MLO   \n",
       "639          1     NaN  ...          21                   False        R-MLO   \n",
       "1257         1     NaN  ...          21                   False         R-CC   \n",
       "3464         1     NaN  ...          21                   False         L-CC   \n",
       "4199         0     NaN  ...          21                   False         R-CC   \n",
       "6982         1     NaN  ...          21                   False        L-MLO   \n",
       "\n",
       "                                    orignal_path  \\\n",
       "112   input_data/train_images/106/1495797827.dcm   \n",
       "639   input_data/train_images/106/2018825992.dcm   \n",
       "1257    input_data/train_images/106/76321767.dcm   \n",
       "3464    input_data/train_images/106/76321767.dcm   \n",
       "4199  input_data/train_images/106/1160585918.dcm   \n",
       "6982  input_data/train_images/106/2018825992.dcm   \n",
       "\n",
       "                                              dump_path kfold   mean_age  \\\n",
       "112   input_data/train_crop_voilut_2048/106/14957978...     4  60.198516   \n",
       "639   input_data/train_crop_voilut_2048/106/23430602...     4  60.198516   \n",
       "1257  input_data/train_crop_voilut_2048/106/40055600...     4  60.198516   \n",
       "3464  input_data/train_crop_voilut_2048/106/76321767...     4  60.198516   \n",
       "4199  input_data/train_crop_voilut_2048/106/11605859...     4  60.198516   \n",
       "6982  input_data/train_crop_voilut_2048/106/20188259...     4  60.198516   \n",
       "\n",
       "      weights  cancer_p  cancer_t  \n",
       "112         1  0.028702         0  \n",
       "639         3  1.000000         1  \n",
       "1257        3  1.000000         1  \n",
       "3464        3  0.196045         1  \n",
       "4199        1  0.004314         0  \n",
       "6982        3  0.015190         1  \n",
       "\n",
       "[6 rows x 22 columns]"
      ]
     },
     "execution_count": 100,
     "metadata": {},
     "output_type": "execute_result"
    }
   ],
   "source": [
    "test_data[test_data.patient_id==106]"
   ]
  },
  {
   "cell_type": "code",
   "execution_count": 112,
   "id": "42715784-12ac-460b-9ba4-247f1e4df232",
   "metadata": {},
   "outputs": [],
   "source": [
    "gb_data  = gb.reset_index()"
   ]
  },
  {
   "cell_type": "code",
   "execution_count": 113,
   "id": "c25733b1-db5f-48d6-860c-f311ab1eadf8",
   "metadata": {},
   "outputs": [
    {
     "data": {
      "text/html": [
       "<div>\n",
       "<style scoped>\n",
       "    .dataframe tbody tr th:only-of-type {\n",
       "        vertical-align: middle;\n",
       "    }\n",
       "\n",
       "    .dataframe tbody tr th {\n",
       "        vertical-align: top;\n",
       "    }\n",
       "\n",
       "    .dataframe thead th {\n",
       "        text-align: right;\n",
       "    }\n",
       "</style>\n",
       "<table border=\"1\" class=\"dataframe\">\n",
       "  <thead>\n",
       "    <tr style=\"text-align: right;\">\n",
       "      <th></th>\n",
       "      <th>patient_id</th>\n",
       "      <th>laterality</th>\n",
       "      <th>site_id</th>\n",
       "      <th>cancer_t</th>\n",
       "      <th>cancer_p</th>\n",
       "      <th>cancer_binarize</th>\n",
       "    </tr>\n",
       "  </thead>\n",
       "  <tbody>\n",
       "    <tr>\n",
       "      <th>8</th>\n",
       "      <td>106</td>\n",
       "      <td>0</td>\n",
       "      <td>2</td>\n",
       "      <td>1</td>\n",
       "      <td>0.196045</td>\n",
       "      <td>0</td>\n",
       "    </tr>\n",
       "    <tr>\n",
       "      <th>9</th>\n",
       "      <td>106</td>\n",
       "      <td>1</td>\n",
       "      <td>2</td>\n",
       "      <td>1</td>\n",
       "      <td>1.000000</td>\n",
       "      <td>1</td>\n",
       "    </tr>\n",
       "  </tbody>\n",
       "</table>\n",
       "</div>"
      ],
      "text/plain": [
       "   patient_id  laterality  site_id  cancer_t  cancer_p  cancer_binarize\n",
       "8         106           0        2         1  0.196045                0\n",
       "9         106           1        2         1  1.000000                1"
      ]
     },
     "execution_count": 113,
     "metadata": {},
     "output_type": "execute_result"
    }
   ],
   "source": [
    "gb_data[gb_data.patient_id==106]"
   ]
  },
  {
   "cell_type": "code",
   "execution_count": null,
   "id": "fab38436-0d08-43ec-973f-a2d8fe5af63a",
   "metadata": {},
   "outputs": [],
   "source": []
  },
  {
   "cell_type": "code",
   "execution_count": 114,
   "id": "6a7fa6fc-ed78-4d8c-bffe-b08d87bf921f",
   "metadata": {},
   "outputs": [
    {
     "data": {
      "text/html": [
       "<div>\n",
       "<style scoped>\n",
       "    .dataframe tbody tr th:only-of-type {\n",
       "        vertical-align: middle;\n",
       "    }\n",
       "\n",
       "    .dataframe tbody tr th {\n",
       "        vertical-align: top;\n",
       "    }\n",
       "\n",
       "    .dataframe thead th {\n",
       "        text-align: right;\n",
       "    }\n",
       "</style>\n",
       "<table border=\"1\" class=\"dataframe\">\n",
       "  <thead>\n",
       "    <tr style=\"text-align: right;\">\n",
       "      <th></th>\n",
       "      <th></th>\n",
       "      <th>site_id</th>\n",
       "      <th>cancer_t</th>\n",
       "      <th>cancer_p</th>\n",
       "      <th>cancer_binarize</th>\n",
       "    </tr>\n",
       "    <tr>\n",
       "      <th>patient_id</th>\n",
       "      <th>laterality</th>\n",
       "      <th></th>\n",
       "      <th></th>\n",
       "      <th></th>\n",
       "      <th></th>\n",
       "    </tr>\n",
       "  </thead>\n",
       "  <tbody>\n",
       "    <tr>\n",
       "      <th rowspan=\"2\" valign=\"top\">106</th>\n",
       "      <th>0</th>\n",
       "      <td>2</td>\n",
       "      <td>1</td>\n",
       "      <td>0.196045</td>\n",
       "      <td>0</td>\n",
       "    </tr>\n",
       "    <tr>\n",
       "      <th>1</th>\n",
       "      <td>2</td>\n",
       "      <td>1</td>\n",
       "      <td>1.000000</td>\n",
       "      <td>1</td>\n",
       "    </tr>\n",
       "    <tr>\n",
       "      <th rowspan=\"2\" valign=\"top\">865</th>\n",
       "      <th>0</th>\n",
       "      <td>2</td>\n",
       "      <td>1</td>\n",
       "      <td>1.000000</td>\n",
       "      <td>1</td>\n",
       "    </tr>\n",
       "    <tr>\n",
       "      <th>1</th>\n",
       "      <td>2</td>\n",
       "      <td>1</td>\n",
       "      <td>0.948730</td>\n",
       "      <td>0</td>\n",
       "    </tr>\n",
       "    <tr>\n",
       "      <th>1878</th>\n",
       "      <th>0</th>\n",
       "      <td>1</td>\n",
       "      <td>1</td>\n",
       "      <td>0.981934</td>\n",
       "      <td>0</td>\n",
       "    </tr>\n",
       "    <tr>\n",
       "      <th>...</th>\n",
       "      <th>...</th>\n",
       "      <td>...</td>\n",
       "      <td>...</td>\n",
       "      <td>...</td>\n",
       "      <td>...</td>\n",
       "    </tr>\n",
       "    <tr>\n",
       "      <th>64437</th>\n",
       "      <th>1</th>\n",
       "      <td>2</td>\n",
       "      <td>1</td>\n",
       "      <td>1.000000</td>\n",
       "      <td>1</td>\n",
       "    </tr>\n",
       "    <tr>\n",
       "      <th rowspan=\"2\" valign=\"top\">64534</th>\n",
       "      <th>0</th>\n",
       "      <td>1</td>\n",
       "      <td>1</td>\n",
       "      <td>0.463867</td>\n",
       "      <td>0</td>\n",
       "    </tr>\n",
       "    <tr>\n",
       "      <th>1</th>\n",
       "      <td>1</td>\n",
       "      <td>1</td>\n",
       "      <td>1.000000</td>\n",
       "      <td>1</td>\n",
       "    </tr>\n",
       "    <tr>\n",
       "      <th rowspan=\"2\" valign=\"top\">65492</th>\n",
       "      <th>0</th>\n",
       "      <td>2</td>\n",
       "      <td>1</td>\n",
       "      <td>0.811035</td>\n",
       "      <td>0</td>\n",
       "    </tr>\n",
       "    <tr>\n",
       "      <th>1</th>\n",
       "      <td>2</td>\n",
       "      <td>1</td>\n",
       "      <td>1.000000</td>\n",
       "      <td>1</td>\n",
       "    </tr>\n",
       "  </tbody>\n",
       "</table>\n",
       "<p>194 rows × 4 columns</p>\n",
       "</div>"
      ],
      "text/plain": [
       "                       site_id  cancer_t  cancer_p  cancer_binarize\n",
       "patient_id laterality                                              \n",
       "106        0                 2         1  0.196045                0\n",
       "           1                 2         1  1.000000                1\n",
       "865        0                 2         1  1.000000                1\n",
       "           1                 2         1  0.948730                0\n",
       "1878       0                 1         1  0.981934                0\n",
       "...                        ...       ...       ...              ...\n",
       "64437      1                 2         1  1.000000                1\n",
       "64534      0                 1         1  0.463867                0\n",
       "           1                 1         1  1.000000                1\n",
       "65492      0                 2         1  0.811035                0\n",
       "           1                 2         1  1.000000                1\n",
       "\n",
       "[194 rows x 4 columns]"
      ]
     },
     "execution_count": 114,
     "metadata": {},
     "output_type": "execute_result"
    }
   ],
   "source": [
    "gb[gb.cancer_t ==1]#['cancer_binarize'].sum()"
   ]
  },
  {
   "cell_type": "code",
   "execution_count": 115,
   "id": "9eb84665-f8e3-4093-91f3-f6e6a95d52d5",
   "metadata": {},
   "outputs": [
    {
     "data": {
      "text/plain": [
       "0.7240356082871204"
      ]
     },
     "execution_count": 115,
     "metadata": {},
     "output_type": "execute_result"
    }
   ],
   "source": [
    "compute_pfbeta(gb['cancer_t'].values, gb['cancer_binarize'].values)\n"
   ]
  },
  {
   "cell_type": "code",
   "execution_count": 116,
   "id": "60ac2243-39e0-41b7-a67f-997ccc02d222",
   "metadata": {},
   "outputs": [
    {
     "data": {
      "text/plain": [
       "0    10710\n",
       "1      464\n",
       "Name: cancer_t, dtype: int64"
      ]
     },
     "execution_count": 116,
     "metadata": {},
     "output_type": "execute_result"
    }
   ],
   "source": [
    "test_data['cancer_t'].value_counts()"
   ]
  },
  {
   "cell_type": "code",
   "execution_count": 110,
   "id": "2548bfc2-bfe1-4bbf-8e6c-73a8aca3861a",
   "metadata": {},
   "outputs": [],
   "source": [
    "conf_m = metrics.confusion_matrix(test_data['cancer_t'],np.where(test_data['cancer_p']>0.,1,0))"
   ]
  },
  {
   "cell_type": "code",
   "execution_count": 111,
   "id": "04ea5c7b-f77e-44d0-a58a-ad2f2f9a23a7",
   "metadata": {},
   "outputs": [
    {
     "data": {
      "text/plain": [
       "469"
      ]
     },
     "execution_count": 111,
     "metadata": {},
     "output_type": "execute_result"
    }
   ],
   "source": [
    "conf_m.sum() - conf_m.diagonal().sum()"
   ]
  },
  {
   "cell_type": "code",
   "execution_count": 112,
   "id": "5ae63b72-4400-4462-bcda-a0e8eeba0300",
   "metadata": {},
   "outputs": [
    {
     "data": {
      "text/plain": [
       "array([[10463,   247],\n",
       "       [  222,   242]])"
      ]
     },
     "execution_count": 112,
     "metadata": {},
     "output_type": "execute_result"
    }
   ],
   "source": [
    "conf_m\n"
   ]
  },
  {
   "cell_type": "code",
   "execution_count": 123,
   "id": "838e70c3-ee13-4271-83c1-e7ff9a1632d6",
   "metadata": {},
   "outputs": [
    {
     "data": {
      "text/plain": [
       "0.5410036719640025"
      ]
     },
     "execution_count": 123,
     "metadata": {},
     "output_type": "execute_result"
    }
   ],
   "source": [
    "compute_pfbeta(test_data['cancer_t'].values,np.where(test_data['cancer_p']>0.5,1,0))"
   ]
  },
  {
   "cell_type": "code",
   "execution_count": 97,
   "id": "0b6d18d4-d8c5-4325-8eba-bd7d38371de4",
   "metadata": {},
   "outputs": [
    {
     "data": {
      "text/plain": [
       "0    4572\n",
       "1     194\n",
       "Name: cancer_t, dtype: int64"
      ]
     },
     "execution_count": 97,
     "metadata": {},
     "output_type": "execute_result"
    }
   ],
   "source": [
    "gb['cancer_t'].value_counts()"
   ]
  },
  {
   "cell_type": "code",
   "execution_count": 70,
   "id": "d0daaf8d-a050-4f09-92e2-1a8b176a98e3",
   "metadata": {
    "tags": []
   },
   "outputs": [
    {
     "data": {
      "text/plain": [
       "0.092346    24\n",
       "0.099976    23\n",
       "0.098450    23\n",
       "0.102112    23\n",
       "0.101074    22\n",
       "            ..\n",
       "0.185303     1\n",
       "0.966797     1\n",
       "0.200684     1\n",
       "0.176147     1\n",
       "0.503906     1\n",
       "Name: cancer_p, Length: 1134, dtype: int64"
      ]
     },
     "execution_count": 70,
     "metadata": {},
     "output_type": "execute_result"
    }
   ],
   "source": [
    "gb['cancer_p'].value_counts()"
   ]
  },
  {
   "cell_type": "code",
   "execution_count": 55,
   "id": "8ea1a383-3e92-4916-89eb-b79c5ddc08c3",
   "metadata": {},
   "outputs": [],
   "source": [
    "# metrics.confusion_matrix(gb['cancer_t'],gb['cancer_p'])"
   ]
  },
  {
   "cell_type": "code",
   "execution_count": 84,
   "id": "9aec9b03-a364-4558-a458-97ba7d496aab",
   "metadata": {},
   "outputs": [
    {
     "data": {
      "text/plain": [
       "array([[4477,   95],\n",
       "       [  62,  132]])"
      ]
     },
     "execution_count": 84,
     "metadata": {},
     "output_type": "execute_result"
    }
   ],
   "source": [
    "metrics.confusion_matrix(gb['cancer_t'],np.where(gb['cancer_p']>0.6,1,0))"
   ]
  },
  {
   "cell_type": "code",
   "execution_count": 68,
   "id": "cee3db03-1c47-4ba1-8d2e-161d10b2ff7f",
   "metadata": {},
   "outputs": [
    {
     "data": {
      "text/plain": [
       "array([[4494,   78],\n",
       "       [  53,  141]])"
      ]
     },
     "execution_count": 68,
     "metadata": {},
     "output_type": "execute_result"
    }
   ],
   "source": [
    "metrics.confusion_matrix(gb['cancer_t'],gb['cancer_p'])"
   ]
  },
  {
   "cell_type": "code",
   "execution_count": 88,
   "id": "5749c4d3-ec16-447f-823b-fb03045ea985",
   "metadata": {},
   "outputs": [
    {
     "data": {
      "text/plain": [
       "0.6270783847832048"
      ]
     },
     "execution_count": 88,
     "metadata": {},
     "output_type": "execute_result"
    }
   ],
   "source": [
    "compute_pfbeta(gb['cancer_t'].values,np.where(gb['cancer_p']>0.6,1,0))"
   ]
  },
  {
   "cell_type": "code",
   "execution_count": 75,
   "id": "b47440eb-8103-4658-a34f-3c007d369cc3",
   "metadata": {},
   "outputs": [
    {
     "data": {
      "text/html": [
       "<div>\n",
       "<style scoped>\n",
       "    .dataframe tbody tr th:only-of-type {\n",
       "        vertical-align: middle;\n",
       "    }\n",
       "\n",
       "    .dataframe tbody tr th {\n",
       "        vertical-align: top;\n",
       "    }\n",
       "\n",
       "    .dataframe thead th {\n",
       "        text-align: right;\n",
       "    }\n",
       "</style>\n",
       "<table border=\"1\" class=\"dataframe\">\n",
       "  <thead>\n",
       "    <tr style=\"text-align: right;\">\n",
       "      <th></th>\n",
       "      <th></th>\n",
       "      <th>site_id</th>\n",
       "      <th>cancer_t</th>\n",
       "      <th>cancer_p</th>\n",
       "    </tr>\n",
       "    <tr>\n",
       "      <th>patient_id</th>\n",
       "      <th>laterality</th>\n",
       "      <th></th>\n",
       "      <th></th>\n",
       "      <th></th>\n",
       "    </tr>\n",
       "  </thead>\n",
       "  <tbody>\n",
       "    <tr>\n",
       "      <th rowspan=\"2\" valign=\"top\">106</th>\n",
       "      <th>0</th>\n",
       "      <td>2</td>\n",
       "      <td>1</td>\n",
       "      <td>0</td>\n",
       "    </tr>\n",
       "    <tr>\n",
       "      <th>1</th>\n",
       "      <td>2</td>\n",
       "      <td>1</td>\n",
       "      <td>1</td>\n",
       "    </tr>\n",
       "    <tr>\n",
       "      <th rowspan=\"2\" valign=\"top\">865</th>\n",
       "      <th>0</th>\n",
       "      <td>2</td>\n",
       "      <td>1</td>\n",
       "      <td>1</td>\n",
       "    </tr>\n",
       "    <tr>\n",
       "      <th>1</th>\n",
       "      <td>2</td>\n",
       "      <td>1</td>\n",
       "      <td>0</td>\n",
       "    </tr>\n",
       "    <tr>\n",
       "      <th>1878</th>\n",
       "      <th>0</th>\n",
       "      <td>1</td>\n",
       "      <td>1</td>\n",
       "      <td>0</td>\n",
       "    </tr>\n",
       "    <tr>\n",
       "      <th>...</th>\n",
       "      <th>...</th>\n",
       "      <td>...</td>\n",
       "      <td>...</td>\n",
       "      <td>...</td>\n",
       "    </tr>\n",
       "    <tr>\n",
       "      <th>64437</th>\n",
       "      <th>1</th>\n",
       "      <td>2</td>\n",
       "      <td>1</td>\n",
       "      <td>1</td>\n",
       "    </tr>\n",
       "    <tr>\n",
       "      <th rowspan=\"2\" valign=\"top\">64534</th>\n",
       "      <th>0</th>\n",
       "      <td>1</td>\n",
       "      <td>1</td>\n",
       "      <td>0</td>\n",
       "    </tr>\n",
       "    <tr>\n",
       "      <th>1</th>\n",
       "      <td>1</td>\n",
       "      <td>1</td>\n",
       "      <td>1</td>\n",
       "    </tr>\n",
       "    <tr>\n",
       "      <th rowspan=\"2\" valign=\"top\">65492</th>\n",
       "      <th>0</th>\n",
       "      <td>2</td>\n",
       "      <td>1</td>\n",
       "      <td>0</td>\n",
       "    </tr>\n",
       "    <tr>\n",
       "      <th>1</th>\n",
       "      <td>2</td>\n",
       "      <td>1</td>\n",
       "      <td>1</td>\n",
       "    </tr>\n",
       "  </tbody>\n",
       "</table>\n",
       "<p>194 rows × 3 columns</p>\n",
       "</div>"
      ],
      "text/plain": [
       "                       site_id  cancer_t  cancer_p\n",
       "patient_id laterality                             \n",
       "106        0                 2         1         0\n",
       "           1                 2         1         1\n",
       "865        0                 2         1         1\n",
       "           1                 2         1         0\n",
       "1878       0                 1         1         0\n",
       "...                        ...       ...       ...\n",
       "64437      1                 2         1         1\n",
       "64534      0                 1         1         0\n",
       "           1                 1         1         1\n",
       "65492      0                 2         1         0\n",
       "           1                 2         1         1\n",
       "\n",
       "[194 rows x 3 columns]"
      ]
     },
     "execution_count": 75,
     "metadata": {},
     "output_type": "execute_result"
    }
   ],
   "source": [
    "gb[gb['cancer_t']==1]"
   ]
  },
  {
   "cell_type": "code",
   "execution_count": 23,
   "id": "2ac2a266-8a33-4fb8-b2df-488d163ea282",
   "metadata": {},
   "outputs": [
    {
     "name": "stdout",
     "output_type": "stream",
     "text": [
      "                    \tauc      @th     f1      | \tprec    recall  | \tsens    spec \n",
      "single image     [0]\t0.95067\t0.87755\t0.71051 | \t0.80992\t0.63362 | \t0.63362\t0.99356\n",
      "grouby mean()    [0]\t0.95956\t0.38776\t0.52671 | \t0.44681\t0.64285 | \t0.64286\t0.98294\n",
      "grouby max()     [0]\t0.97632\t0.97959\t0.72517 | \t0.84827\t0.63402 | \t0.63918\t0.99519\n",
      "--------------\n",
      "\n",
      "single image     [1]\t0.93589\t0.97959\t0.66036 | \t0.86285\t0.53546 | \t0.53546\t0.99584\n",
      "grouby mean()    [1]\t0.94498\t0.38776\t0.41381 | \t0.33333\t0.54716 | \t0.54717\t0.97392\n",
      "grouby max()     [1]\t0.96764\t0.97959\t0.66617 | \t0.75903\t0.59433 | \t0.59434\t0.99101\n",
      "--------------\n",
      "\n",
      "single image     [2]\t0.97116\t0.77551\t0.79461 | \t0.89655\t0.71428 | \t0.71429\t0.99696\n",
      "grouby mean()    [2]\t0.96888\t0.48980\t0.69949 | \t0.79998\t0.62221 | \t0.62222\t0.99702\n",
      "grouby max()     [2]\t0.98236\t0.93878\t0.83699 | \t0.93054\t0.76135 | \t0.76136\t0.99787\n",
      "--------------\n",
      "\n",
      "grouby mean()   \t0.94869\t0.53061\t0.42218 | \t0.42708\t0.41836 | \t0.41837\t0.98822\n",
      "\n",
      "pfbeta 0.24385512389882247\n",
      "0.42217669867072083 0.42707888459495214 0.4183630779277762 0.5306122448979591\n",
      "[0.2, 0.3, 0.4, 0.5, 0.6, 0.7, 0.8]\n"
     ]
    },
    {
     "data": {
      "image/png": "[encoded data removed]",
      "text/plain": [
       "<Figure size 640x480 with 1 Axes>"
      ]
     },
     "metadata": {},
     "output_type": "display_data"
    },
    {
     "data": {
      "image/png": "[encoded data removed]",
      "text/plain": [
       "<Figure size 500x500 with 2 Axes>"
      ]
     },
     "metadata": {},
     "output_type": "display_data"
    }
   ],
   "source": [
    "#--------------------------\n",
    "\n",
    "# valid_df.loc[:, 'cancer_p'] = cancer_p #**0.5 #(cancer_p1 +cancer_p)/2 #cancer_p#\n",
    "# valid_df.loc[:, 'cancer_t'] = cancer_t\n",
    "print_all_metric(test_data)\n",
    "\n",
    "\n",
    "gb = test_data[['site_id', 'patient_id','laterality', 'cancer_t', 'cancer_p']].groupby(['patient_id', 'laterality']).mean()\n",
    "gb.loc[:, 'cancer_t'] = gb.cancer_t.astype(int)\n",
    "m = compute_metric(gb.cancer_p, gb.cancer_t)\n",
    "text = f'{\"grouby mean()\": <16}'\n",
    "text += f'\\t{m[\"auc\"]:0.5f}'\n",
    "text += f'\\t{m[\"threshold\"]:0.5f}'\n",
    "text += f'\\t{m[\"f1score\"]:0.5f} | '\n",
    "text += f'\\t{m[\"precision\"]:0.5f}'\n",
    "text += f'\\t{m[\"recall\"]:0.5f} | '\n",
    "text += f'\\t{m[\"sensitivity\"]:0.5f}'\n",
    "text += f'\\t{m[\"specificity\"]:0.5f}'\n",
    "text += '\\n'\n",
    "print(text)\n",
    "\n",
    "pfbeta = compute_pfbeta(gb.cancer_t.values, gb.cancer_p.values, beta=1)\n",
    "print('pfbeta',pfbeta)\n",
    "plot_auc(gb.cancer_p, gb.cancer_t, figure_num=100)\n",
    "\n",
    "\n",
    "f1score, precision, recall, threshold = get_f1score(gb.cancer_p, gb.cancer_t)\n",
    "i = f1score.argmax()\n",
    "f1score_max, precision_max, recall_max, threshold_max = f1score[i], precision[i], recall[i], threshold[i]\n",
    "print(f1score_max, precision_max, recall_max, threshold_max)\n",
    "\n",
    "precision, recall, threshold = metrics.precision_recall_curve(gb.cancer_t, gb.cancer_p)\n",
    "auc = metrics.auc(recall, precision)\n",
    "\n",
    "_, ax = plt.subplots(figsize=(5, 5))\n",
    "\n",
    "f_scores = [0.2,0.3,0.4,0.5,0.6,0.7,0.8] #np.linspace(0.2, 0.8, num=8)\n",
    "print(f_scores)\n",
    "lines, labels = [], []\n",
    "for f_score in f_scores:\n",
    "    x = np.linspace(0.01, 1)\n",
    "    y = f_score * x / (2 * x - f_score)\n",
    "    (l,) = plt.plot(x[y >= 0], y[y >= 0], color=\"gray\", alpha=0.2)\n",
    "    plt.annotate(\"f1={0:0.1f}\".format(f_score), xy=(0.9, y[45] + 0.02))\n",
    "ax.plot([0,1],[0,1], color=\"gray\", alpha=0.2)\n",
    "ax.plot(recall,precision)\n",
    "s=ax.scatter(recall[:-1],precision[:-1],c=threshold,cmap='hsv')\n",
    "ax.scatter(recall_max, precision_max,s=30,c='k')\n",
    "\n",
    "#---\n",
    "precision, recall, threshold = metrics.precision_recall_curve(gb.cancer_t[gb.site_id==1], gb.cancer_p[gb.site_id==1])\n",
    "ax.plot(recall,precision, '--', label='site_id=1')\n",
    "precision, recall, threshold = metrics.precision_recall_curve(gb.cancer_t[gb.site_id==2], gb.cancer_p[gb.site_id==2])\n",
    "ax.plot(recall,precision, '--', label='site_id=2')\n",
    "\n",
    "\n",
    "\n",
    "\n",
    "ax.set_xlim([0.0, 1.0])\n",
    "ax.set_ylim([0.0, 1.05])\n",
    "\n",
    "text=''\n",
    "text+=f'MAX f1score {f1score_max: 0.5f} @ th = {threshold_max: 0.5f}\\n'\n",
    "text+=f'prec {precision_max: 0.5f}, recall {recall_max: 0.5f}, pr-auc {auc: 0.5f}\\n'\n",
    "\n",
    "plt.legend()\n",
    "plt.title(text)\n",
    "plt.colorbar(s,label='threshold')\n",
    "plt.xlabel('recall')\n",
    "plt.ylabel('precision')\n",
    "plt.show()"
   ]
  },
  {
   "cell_type": "code",
   "execution_count": null,
   "id": "553d38f4-9ec0-43b0-9f69-19abda4a698a",
   "metadata": {},
   "outputs": [],
   "source": [
    "#36 @30 effnetb4 4"
   ]
  },
  {
   "cell_type": "code",
   "execution_count": 24,
   "id": "846953a0-b3de-43ec-996c-21a38630220d",
   "metadata": {},
   "outputs": [
    {
     "name": "stdout",
     "output_type": "stream",
     "text": [
      "                    \tauc      @th     f1      | \tprec    recall  | \tsens    spec \n",
      "single image     [0]\t0.95067\t0.87755\t0.71051 | \t0.80992\t0.63362 | \t0.63362\t0.99356\n",
      "grouby mean()    [0]\t0.95956\t0.38776\t0.52671 | \t0.44681\t0.64285 | \t0.64286\t0.98294\n",
      "grouby max()     [0]\t0.97632\t0.97959\t0.72517 | \t0.84827\t0.63402 | \t0.63918\t0.99519\n",
      "--------------\n",
      "\n",
      "single image     [1]\t0.93589\t0.97959\t0.66036 | \t0.86285\t0.53546 | \t0.53546\t0.99584\n",
      "grouby mean()    [1]\t0.94498\t0.38776\t0.41381 | \t0.33333\t0.54716 | \t0.54717\t0.97392\n",
      "grouby max()     [1]\t0.96764\t0.97959\t0.66617 | \t0.75903\t0.59433 | \t0.59434\t0.99101\n",
      "--------------\n",
      "\n",
      "single image     [2]\t0.97116\t0.77551\t0.79461 | \t0.89655\t0.71428 | \t0.71429\t0.99696\n",
      "grouby mean()    [2]\t0.96888\t0.48980\t0.69949 | \t0.79998\t0.62221 | \t0.62222\t0.99702\n",
      "grouby max()     [2]\t0.98236\t0.93878\t0.83699 | \t0.93054\t0.76135 | \t0.76136\t0.99787\n",
      "--------------\n",
      "\n",
      "grouby mean()   \t0.97632\t0.97959\t0.72517 | \t0.84827\t0.63402 | \t0.63918\t0.99519\n",
      "\n",
      "pfbeta 0.4545354706334012\n",
      "0.7251702118673916 0.8482700119309522 0.6340173504260287 0.9795918367346939\n",
      "[0.2, 0.3, 0.4, 0.5, 0.6, 0.7, 0.8]\n"
     ]
    },
    {
     "data": {
      "image/png": "[encoded data removed]",
      "text/plain": [
       "<Figure size 640x480 with 1 Axes>"
      ]
     },
     "metadata": {},
     "output_type": "display_data"
    },
    {
     "data": {
      "image/png": "[encoded data removed]",
      "text/plain": [
       "<Figure size 500x500 with 2 Axes>"
      ]
     },
     "metadata": {},
     "output_type": "display_data"
    }
   ],
   "source": [
    "#--------------------------\n",
    "\n",
    "# valid_df.loc[:, 'cancer_p'] = cancer_p #**0.5 #(cancer_p1 +cancer_p)/2 #cancer_p#\n",
    "# valid_df.loc[:, 'cancer_t'] = cancer_t\n",
    "print_all_metric(test_data)\n",
    "\n",
    "\n",
    "gb = test_data[['site_id', 'patient_id','laterality', 'cancer_t', 'cancer_p']].groupby(['patient_id', 'laterality']).max()\n",
    "gb.loc[:, 'cancer_t'] = gb.cancer_t.astype(int)\n",
    "m = compute_metric(gb.cancer_p, gb.cancer_t)\n",
    "text = f'{\"grouby mean()\": <16}'\n",
    "text += f'\\t{m[\"auc\"]:0.5f}'\n",
    "text += f'\\t{m[\"threshold\"]:0.5f}'\n",
    "text += f'\\t{m[\"f1score\"]:0.5f} | '\n",
    "text += f'\\t{m[\"precision\"]:0.5f}'\n",
    "text += f'\\t{m[\"recall\"]:0.5f} | '\n",
    "text += f'\\t{m[\"sensitivity\"]:0.5f}'\n",
    "text += f'\\t{m[\"specificity\"]:0.5f}'\n",
    "text += '\\n'\n",
    "print(text)\n",
    "\n",
    "pfbeta = compute_pfbeta(gb.cancer_t.values, gb.cancer_p.values, beta=1)\n",
    "print('pfbeta',pfbeta)\n",
    "plot_auc(gb.cancer_p, gb.cancer_t, figure_num=100)\n",
    "\n",
    "\n",
    "f1score, precision, recall, threshold = get_f1score(gb.cancer_p, gb.cancer_t)\n",
    "i = f1score.argmax()\n",
    "f1score_max, precision_max, recall_max, threshold_max = f1score[i], precision[i], recall[i], threshold[i]\n",
    "print(f1score_max, precision_max, recall_max, threshold_max)\n",
    "\n",
    "precision, recall, threshold = metrics.precision_recall_curve(gb.cancer_t, gb.cancer_p)\n",
    "auc = metrics.auc(recall, precision)\n",
    "\n",
    "_, ax = plt.subplots(figsize=(5, 5))\n",
    "\n",
    "f_scores = [0.2,0.3,0.4,0.5,0.6,0.7,0.8] #np.linspace(0.2, 0.8, num=8)\n",
    "print(f_scores)\n",
    "lines, labels = [], []\n",
    "for f_score in f_scores:\n",
    "    x = np.linspace(0.01, 1)\n",
    "    y = f_score * x / (2 * x - f_score)\n",
    "    (l,) = plt.plot(x[y >= 0], y[y >= 0], color=\"gray\", alpha=0.2)\n",
    "    plt.annotate(\"f1={0:0.1f}\".format(f_score), xy=(0.9, y[45] + 0.02))\n",
    "ax.plot([0,1],[0,1], color=\"gray\", alpha=0.2)\n",
    "ax.plot(recall,precision)\n",
    "s=ax.scatter(recall[:-1],precision[:-1],c=threshold,cmap='hsv')\n",
    "ax.scatter(recall_max, precision_max,s=30,c='k')\n",
    "\n",
    "#---\n",
    "precision, recall, threshold = metrics.precision_recall_curve(gb.cancer_t[gb.site_id==1], gb.cancer_p[gb.site_id==1])\n",
    "ax.plot(recall,precision, '--', label='site_id=1')\n",
    "precision, recall, threshold = metrics.precision_recall_curve(gb.cancer_t[gb.site_id==2], gb.cancer_p[gb.site_id==2])\n",
    "ax.plot(recall,precision, '--', label='site_id=2')\n",
    "\n",
    "\n",
    "\n",
    "\n",
    "ax.set_xlim([0.0, 1.0])\n",
    "ax.set_ylim([0.0, 1.05])\n",
    "\n",
    "text=''\n",
    "text+=f'MAX f1score {f1score_max: 0.5f} @ th = {threshold_max: 0.5f}\\n'\n",
    "text+=f'prec {precision_max: 0.5f}, recall {recall_max: 0.5f}, pr-auc {auc: 0.5f}\\n'\n",
    "\n",
    "plt.legend()\n",
    "plt.title(text)\n",
    "plt.colorbar(s,label='threshold')\n",
    "plt.xlabel('recall')\n",
    "plt.ylabel('precision')\n",
    "plt.show()"
   ]
  },
  {
   "cell_type": "code",
   "execution_count": null,
   "id": "a76f2fa1-f5e9-4b36-8cc3-64edf08931eb",
   "metadata": {},
   "outputs": [],
   "source": []
  }
 ],
 "metadata": {
  "kernelspec": {
   "display_name": "Python 3 (ipykernel)",
   "language": "python",
   "name": "python3"
  },
  "language_info": {
   "codemirror_mode": {
    "name": "ipython",
    "version": 3
   },
   "file_extension": ".py",
   "mimetype": "text/x-python",
   "name": "python",
   "nbconvert_exporter": "python",
   "pygments_lexer": "ipython3",
   "version": "3.8.10"
  }
 },
 "nbformat": 4,
 "nbformat_minor": 5
}
